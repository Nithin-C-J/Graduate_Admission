{
 "cells": [
  {
   "cell_type": "markdown",
   "metadata": {},
   "source": [
    "This is a Kaggle dataset for graduate admission.The predicated output for this dataset gives us a fair idea about students chances for getting admission in particular University."
   ]
  },
  {
   "cell_type": "code",
   "execution_count": 1,
   "metadata": {},
   "outputs": [],
   "source": [
    "import numpy as np\n",
    "import pandas as pd "
   ]
  },
  {
   "cell_type": "code",
   "execution_count": 2,
   "metadata": {
    "scrolled": true
   },
   "outputs": [
    {
     "data": {
      "text/html": [
       "<div>\n",
       "<style scoped>\n",
       "    .dataframe tbody tr th:only-of-type {\n",
       "        vertical-align: middle;\n",
       "    }\n",
       "\n",
       "    .dataframe tbody tr th {\n",
       "        vertical-align: top;\n",
       "    }\n",
       "\n",
       "    .dataframe thead th {\n",
       "        text-align: right;\n",
       "    }\n",
       "</style>\n",
       "<table border=\"1\" class=\"dataframe\">\n",
       "  <thead>\n",
       "    <tr style=\"text-align: right;\">\n",
       "      <th></th>\n",
       "      <th>Serial No.</th>\n",
       "      <th>GRE Score</th>\n",
       "      <th>TOEFL Score</th>\n",
       "      <th>University Rating</th>\n",
       "      <th>SOP</th>\n",
       "      <th>LOR</th>\n",
       "      <th>CGPA</th>\n",
       "      <th>Research</th>\n",
       "      <th>Chance of Admit</th>\n",
       "    </tr>\n",
       "  </thead>\n",
       "  <tbody>\n",
       "    <tr>\n",
       "      <th>0</th>\n",
       "      <td>1</td>\n",
       "      <td>337</td>\n",
       "      <td>118</td>\n",
       "      <td>4</td>\n",
       "      <td>4.5</td>\n",
       "      <td>4.5</td>\n",
       "      <td>9.65</td>\n",
       "      <td>1</td>\n",
       "      <td>0.92</td>\n",
       "    </tr>\n",
       "    <tr>\n",
       "      <th>1</th>\n",
       "      <td>2</td>\n",
       "      <td>324</td>\n",
       "      <td>107</td>\n",
       "      <td>4</td>\n",
       "      <td>4.0</td>\n",
       "      <td>4.5</td>\n",
       "      <td>8.87</td>\n",
       "      <td>1</td>\n",
       "      <td>0.76</td>\n",
       "    </tr>\n",
       "    <tr>\n",
       "      <th>2</th>\n",
       "      <td>3</td>\n",
       "      <td>316</td>\n",
       "      <td>104</td>\n",
       "      <td>3</td>\n",
       "      <td>3.0</td>\n",
       "      <td>3.5</td>\n",
       "      <td>8.00</td>\n",
       "      <td>1</td>\n",
       "      <td>0.72</td>\n",
       "    </tr>\n",
       "    <tr>\n",
       "      <th>3</th>\n",
       "      <td>4</td>\n",
       "      <td>322</td>\n",
       "      <td>110</td>\n",
       "      <td>3</td>\n",
       "      <td>3.5</td>\n",
       "      <td>2.5</td>\n",
       "      <td>8.67</td>\n",
       "      <td>1</td>\n",
       "      <td>0.80</td>\n",
       "    </tr>\n",
       "    <tr>\n",
       "      <th>4</th>\n",
       "      <td>5</td>\n",
       "      <td>314</td>\n",
       "      <td>103</td>\n",
       "      <td>2</td>\n",
       "      <td>2.0</td>\n",
       "      <td>3.0</td>\n",
       "      <td>8.21</td>\n",
       "      <td>0</td>\n",
       "      <td>0.65</td>\n",
       "    </tr>\n",
       "  </tbody>\n",
       "</table>\n",
       "</div>"
      ],
      "text/plain": [
       "   Serial No.  GRE Score  TOEFL Score  University Rating  SOP  LOR   CGPA  \\\n",
       "0           1        337          118                  4  4.5   4.5  9.65   \n",
       "1           2        324          107                  4  4.0   4.5  8.87   \n",
       "2           3        316          104                  3  3.0   3.5  8.00   \n",
       "3           4        322          110                  3  3.5   2.5  8.67   \n",
       "4           5        314          103                  2  2.0   3.0  8.21   \n",
       "\n",
       "   Research  Chance of Admit   \n",
       "0         1              0.92  \n",
       "1         1              0.76  \n",
       "2         1              0.72  \n",
       "3         1              0.80  \n",
       "4         0              0.65  "
      ]
     },
     "execution_count": 2,
     "metadata": {},
     "output_type": "execute_result"
    }
   ],
   "source": [
    "data = pd.read_csv('Admission_Predict.csv')\n",
    "data.head()"
   ]
  },
  {
   "cell_type": "code",
   "execution_count": 3,
   "metadata": {
    "scrolled": true
   },
   "outputs": [
    {
     "data": {
      "text/html": [
       "<div>\n",
       "<style scoped>\n",
       "    .dataframe tbody tr th:only-of-type {\n",
       "        vertical-align: middle;\n",
       "    }\n",
       "\n",
       "    .dataframe tbody tr th {\n",
       "        vertical-align: top;\n",
       "    }\n",
       "\n",
       "    .dataframe thead th {\n",
       "        text-align: right;\n",
       "    }\n",
       "</style>\n",
       "<table border=\"1\" class=\"dataframe\">\n",
       "  <thead>\n",
       "    <tr style=\"text-align: right;\">\n",
       "      <th></th>\n",
       "      <th>Serial No.</th>\n",
       "      <th>GRE Score</th>\n",
       "      <th>TOEFL Score</th>\n",
       "      <th>University Rating</th>\n",
       "      <th>SOP</th>\n",
       "      <th>LOR</th>\n",
       "      <th>CGPA</th>\n",
       "      <th>Research</th>\n",
       "      <th>Chance of Admit</th>\n",
       "    </tr>\n",
       "  </thead>\n",
       "  <tbody>\n",
       "    <tr>\n",
       "      <th>count</th>\n",
       "      <td>400.000000</td>\n",
       "      <td>400.000000</td>\n",
       "      <td>400.000000</td>\n",
       "      <td>400.000000</td>\n",
       "      <td>400.000000</td>\n",
       "      <td>400.000000</td>\n",
       "      <td>400.000000</td>\n",
       "      <td>400.000000</td>\n",
       "      <td>400.000000</td>\n",
       "    </tr>\n",
       "    <tr>\n",
       "      <th>mean</th>\n",
       "      <td>200.500000</td>\n",
       "      <td>316.807500</td>\n",
       "      <td>107.410000</td>\n",
       "      <td>3.087500</td>\n",
       "      <td>3.400000</td>\n",
       "      <td>3.452500</td>\n",
       "      <td>8.598925</td>\n",
       "      <td>0.547500</td>\n",
       "      <td>0.724350</td>\n",
       "    </tr>\n",
       "    <tr>\n",
       "      <th>std</th>\n",
       "      <td>115.614301</td>\n",
       "      <td>11.473646</td>\n",
       "      <td>6.069514</td>\n",
       "      <td>1.143728</td>\n",
       "      <td>1.006869</td>\n",
       "      <td>0.898478</td>\n",
       "      <td>0.596317</td>\n",
       "      <td>0.498362</td>\n",
       "      <td>0.142609</td>\n",
       "    </tr>\n",
       "    <tr>\n",
       "      <th>min</th>\n",
       "      <td>1.000000</td>\n",
       "      <td>290.000000</td>\n",
       "      <td>92.000000</td>\n",
       "      <td>1.000000</td>\n",
       "      <td>1.000000</td>\n",
       "      <td>1.000000</td>\n",
       "      <td>6.800000</td>\n",
       "      <td>0.000000</td>\n",
       "      <td>0.340000</td>\n",
       "    </tr>\n",
       "    <tr>\n",
       "      <th>25%</th>\n",
       "      <td>100.750000</td>\n",
       "      <td>308.000000</td>\n",
       "      <td>103.000000</td>\n",
       "      <td>2.000000</td>\n",
       "      <td>2.500000</td>\n",
       "      <td>3.000000</td>\n",
       "      <td>8.170000</td>\n",
       "      <td>0.000000</td>\n",
       "      <td>0.640000</td>\n",
       "    </tr>\n",
       "    <tr>\n",
       "      <th>50%</th>\n",
       "      <td>200.500000</td>\n",
       "      <td>317.000000</td>\n",
       "      <td>107.000000</td>\n",
       "      <td>3.000000</td>\n",
       "      <td>3.500000</td>\n",
       "      <td>3.500000</td>\n",
       "      <td>8.610000</td>\n",
       "      <td>1.000000</td>\n",
       "      <td>0.730000</td>\n",
       "    </tr>\n",
       "    <tr>\n",
       "      <th>75%</th>\n",
       "      <td>300.250000</td>\n",
       "      <td>325.000000</td>\n",
       "      <td>112.000000</td>\n",
       "      <td>4.000000</td>\n",
       "      <td>4.000000</td>\n",
       "      <td>4.000000</td>\n",
       "      <td>9.062500</td>\n",
       "      <td>1.000000</td>\n",
       "      <td>0.830000</td>\n",
       "    </tr>\n",
       "    <tr>\n",
       "      <th>max</th>\n",
       "      <td>400.000000</td>\n",
       "      <td>340.000000</td>\n",
       "      <td>120.000000</td>\n",
       "      <td>5.000000</td>\n",
       "      <td>5.000000</td>\n",
       "      <td>5.000000</td>\n",
       "      <td>9.920000</td>\n",
       "      <td>1.000000</td>\n",
       "      <td>0.970000</td>\n",
       "    </tr>\n",
       "  </tbody>\n",
       "</table>\n",
       "</div>"
      ],
      "text/plain": [
       "       Serial No.   GRE Score  TOEFL Score  University Rating         SOP  \\\n",
       "count  400.000000  400.000000   400.000000         400.000000  400.000000   \n",
       "mean   200.500000  316.807500   107.410000           3.087500    3.400000   \n",
       "std    115.614301   11.473646     6.069514           1.143728    1.006869   \n",
       "min      1.000000  290.000000    92.000000           1.000000    1.000000   \n",
       "25%    100.750000  308.000000   103.000000           2.000000    2.500000   \n",
       "50%    200.500000  317.000000   107.000000           3.000000    3.500000   \n",
       "75%    300.250000  325.000000   112.000000           4.000000    4.000000   \n",
       "max    400.000000  340.000000   120.000000           5.000000    5.000000   \n",
       "\n",
       "             LOR         CGPA    Research  Chance of Admit   \n",
       "count  400.000000  400.000000  400.000000        400.000000  \n",
       "mean     3.452500    8.598925    0.547500          0.724350  \n",
       "std      0.898478    0.596317    0.498362          0.142609  \n",
       "min      1.000000    6.800000    0.000000          0.340000  \n",
       "25%      3.000000    8.170000    0.000000          0.640000  \n",
       "50%      3.500000    8.610000    1.000000          0.730000  \n",
       "75%      4.000000    9.062500    1.000000          0.830000  \n",
       "max      5.000000    9.920000    1.000000          0.970000  "
      ]
     },
     "execution_count": 3,
     "metadata": {},
     "output_type": "execute_result"
    }
   ],
   "source": [
    "data.describe()"
   ]
  },
  {
   "cell_type": "code",
   "execution_count": 4,
   "metadata": {},
   "outputs": [
    {
     "name": "stdout",
     "output_type": "stream",
     "text": [
      "<class 'pandas.core.frame.DataFrame'>\n",
      "RangeIndex: 400 entries, 0 to 399\n",
      "Data columns (total 9 columns):\n",
      "Serial No.           400 non-null int64\n",
      "GRE Score            400 non-null int64\n",
      "TOEFL Score          400 non-null int64\n",
      "University Rating    400 non-null int64\n",
      "SOP                  400 non-null float64\n",
      "LOR                  400 non-null float64\n",
      "CGPA                 400 non-null float64\n",
      "Research             400 non-null int64\n",
      "Chance of Admit      400 non-null float64\n",
      "dtypes: float64(4), int64(5)\n",
      "memory usage: 28.2 KB\n"
     ]
    }
   ],
   "source": [
    "#information about our dataset\n",
    "data.info()"
   ]
  },
  {
   "cell_type": "code",
   "execution_count": 5,
   "metadata": {},
   "outputs": [
    {
     "data": {
      "text/html": [
       "<style  type=\"text/css\" >\n",
       "    #T_c3fae19a_4714_11ea_a511_f01898ecc5abrow0_col0 {\n",
       "            background-color:  #b40426;\n",
       "            color:  #f1f1f1;\n",
       "        }    #T_c3fae19a_4714_11ea_a511_f01898ecc5abrow0_col1 {\n",
       "            background-color:  #edd1c2;\n",
       "            color:  #000000;\n",
       "        }    #T_c3fae19a_4714_11ea_a511_f01898ecc5abrow0_col2 {\n",
       "            background-color:  #c9d7f0;\n",
       "            color:  #000000;\n",
       "        }    #T_c3fae19a_4714_11ea_a511_f01898ecc5abrow0_col3 {\n",
       "            background-color:  #3b4cc0;\n",
       "            color:  #f1f1f1;\n",
       "        }    #T_c3fae19a_4714_11ea_a511_f01898ecc5abrow0_col4 {\n",
       "            background-color:  #d5dbe5;\n",
       "            color:  #000000;\n",
       "        }    #T_c3fae19a_4714_11ea_a511_f01898ecc5abrow0_col5 {\n",
       "            background-color:  #8db0fe;\n",
       "            color:  #000000;\n",
       "        }    #T_c3fae19a_4714_11ea_a511_f01898ecc5abrow0_col6 {\n",
       "            background-color:  #efcebd;\n",
       "            color:  #000000;\n",
       "        }    #T_c3fae19a_4714_11ea_a511_f01898ecc5abrow0_col7 {\n",
       "            background-color:  #7ea1fa;\n",
       "            color:  #000000;\n",
       "        }    #T_c3fae19a_4714_11ea_a511_f01898ecc5abrow0_col8 {\n",
       "            background-color:  #3b4cc0;\n",
       "            color:  #f1f1f1;\n",
       "        }    #T_c3fae19a_4714_11ea_a511_f01898ecc5abrow1_col0 {\n",
       "            background-color:  #f4c5ad;\n",
       "            color:  #000000;\n",
       "        }    #T_c3fae19a_4714_11ea_a511_f01898ecc5abrow1_col1 {\n",
       "            background-color:  #b40426;\n",
       "            color:  #f1f1f1;\n",
       "        }    #T_c3fae19a_4714_11ea_a511_f01898ecc5abrow1_col2 {\n",
       "            background-color:  #f6a385;\n",
       "            color:  #000000;\n",
       "        }    #T_c3fae19a_4714_11ea_a511_f01898ecc5abrow1_col3 {\n",
       "            background-color:  #d9dce1;\n",
       "            color:  #000000;\n",
       "        }    #T_c3fae19a_4714_11ea_a511_f01898ecc5abrow1_col4 {\n",
       "            background-color:  #f6bea4;\n",
       "            color:  #000000;\n",
       "        }    #T_c3fae19a_4714_11ea_a511_f01898ecc5abrow1_col5 {\n",
       "            background-color:  #8fb1fe;\n",
       "            color:  #000000;\n",
       "        }    #T_c3fae19a_4714_11ea_a511_f01898ecc5abrow1_col6 {\n",
       "            background-color:  #7da0f9;\n",
       "            color:  #000000;\n",
       "        }    #T_c3fae19a_4714_11ea_a511_f01898ecc5abrow1_col7 {\n",
       "            background-color:  #7a9df8;\n",
       "            color:  #000000;\n",
       "        }    #T_c3fae19a_4714_11ea_a511_f01898ecc5abrow1_col8 {\n",
       "            background-color:  #c6d6f1;\n",
       "            color:  #000000;\n",
       "        }    #T_c3fae19a_4714_11ea_a511_f01898ecc5abrow2_col0 {\n",
       "            background-color:  #ccd9ed;\n",
       "            color:  #000000;\n",
       "        }    #T_c3fae19a_4714_11ea_a511_f01898ecc5abrow2_col1 {\n",
       "            background-color:  #f7af91;\n",
       "            color:  #000000;\n",
       "        }    #T_c3fae19a_4714_11ea_a511_f01898ecc5abrow2_col2 {\n",
       "            background-color:  #b40426;\n",
       "            color:  #f1f1f1;\n",
       "        }    #T_c3fae19a_4714_11ea_a511_f01898ecc5abrow2_col3 {\n",
       "            background-color:  #d7dce3;\n",
       "            color:  #000000;\n",
       "        }    #T_c3fae19a_4714_11ea_a511_f01898ecc5abrow2_col4 {\n",
       "            background-color:  #abc8fd;\n",
       "            color:  #000000;\n",
       "        }    #T_c3fae19a_4714_11ea_a511_f01898ecc5abrow2_col5 {\n",
       "            background-color:  #94b6ff;\n",
       "            color:  #000000;\n",
       "        }    #T_c3fae19a_4714_11ea_a511_f01898ecc5abrow2_col6 {\n",
       "            background-color:  #779af7;\n",
       "            color:  #000000;\n",
       "        }    #T_c3fae19a_4714_11ea_a511_f01898ecc5abrow2_col7 {\n",
       "            background-color:  #5a78e4;\n",
       "            color:  #000000;\n",
       "        }    #T_c3fae19a_4714_11ea_a511_f01898ecc5abrow2_col8 {\n",
       "            background-color:  #a9c6fd;\n",
       "            color:  #000000;\n",
       "        }    #T_c3fae19a_4714_11ea_a511_f01898ecc5abrow3_col0 {\n",
       "            background-color:  #3b4cc0;\n",
       "            color:  #f1f1f1;\n",
       "        }    #T_c3fae19a_4714_11ea_a511_f01898ecc5abrow3_col1 {\n",
       "            background-color:  #c4d5f3;\n",
       "            color:  #000000;\n",
       "        }    #T_c3fae19a_4714_11ea_a511_f01898ecc5abrow3_col2 {\n",
       "            background-color:  #d4dbe6;\n",
       "            color:  #000000;\n",
       "        }    #T_c3fae19a_4714_11ea_a511_f01898ecc5abrow3_col3 {\n",
       "            background-color:  #b40426;\n",
       "            color:  #f1f1f1;\n",
       "        }    #T_c3fae19a_4714_11ea_a511_f01898ecc5abrow3_col4 {\n",
       "            background-color:  #93b5fe;\n",
       "            color:  #000000;\n",
       "        }    #T_c3fae19a_4714_11ea_a511_f01898ecc5abrow3_col5 {\n",
       "            background-color:  #f39475;\n",
       "            color:  #000000;\n",
       "        }    #T_c3fae19a_4714_11ea_a511_f01898ecc5abrow3_col6 {\n",
       "            background-color:  #3b4cc0;\n",
       "            color:  #f1f1f1;\n",
       "        }    #T_c3fae19a_4714_11ea_a511_f01898ecc5abrow3_col7 {\n",
       "            background-color:  #f3c7b1;\n",
       "            color:  #000000;\n",
       "        }    #T_c3fae19a_4714_11ea_a511_f01898ecc5abrow3_col8 {\n",
       "            background-color:  #a7c5fe;\n",
       "            color:  #000000;\n",
       "        }    #T_c3fae19a_4714_11ea_a511_f01898ecc5abrow4_col0 {\n",
       "            background-color:  #c7d7f0;\n",
       "            color:  #000000;\n",
       "        }    #T_c3fae19a_4714_11ea_a511_f01898ecc5abrow4_col1 {\n",
       "            background-color:  #ebd3c6;\n",
       "            color:  #000000;\n",
       "        }    #T_c3fae19a_4714_11ea_a511_f01898ecc5abrow4_col2 {\n",
       "            background-color:  #92b4fe;\n",
       "            color:  #000000;\n",
       "        }    #T_c3fae19a_4714_11ea_a511_f01898ecc5abrow4_col3 {\n",
       "            background-color:  #7b9ff9;\n",
       "            color:  #000000;\n",
       "        }    #T_c3fae19a_4714_11ea_a511_f01898ecc5abrow4_col4 {\n",
       "            background-color:  #b40426;\n",
       "            color:  #f1f1f1;\n",
       "        }    #T_c3fae19a_4714_11ea_a511_f01898ecc5abrow4_col5 {\n",
       "            background-color:  #3b4cc0;\n",
       "            color:  #f1f1f1;\n",
       "        }    #T_c3fae19a_4714_11ea_a511_f01898ecc5abrow4_col6 {\n",
       "            background-color:  #7295f4;\n",
       "            color:  #000000;\n",
       "        }    #T_c3fae19a_4714_11ea_a511_f01898ecc5abrow4_col7 {\n",
       "            background-color:  #3b4cc0;\n",
       "            color:  #f1f1f1;\n",
       "        }    #T_c3fae19a_4714_11ea_a511_f01898ecc5abrow4_col8 {\n",
       "            background-color:  #ecd3c5;\n",
       "            color:  #000000;\n",
       "        }    #T_c3fae19a_4714_11ea_a511_f01898ecc5abrow5_col0 {\n",
       "            background-color:  #82a6fb;\n",
       "            color:  #000000;\n",
       "        }    #T_c3fae19a_4714_11ea_a511_f01898ecc5abrow5_col1 {\n",
       "            background-color:  #5e7de7;\n",
       "            color:  #000000;\n",
       "        }    #T_c3fae19a_4714_11ea_a511_f01898ecc5abrow5_col2 {\n",
       "            background-color:  #84a7fc;\n",
       "            color:  #000000;\n",
       "        }    #T_c3fae19a_4714_11ea_a511_f01898ecc5abrow5_col3 {\n",
       "            background-color:  #f4987a;\n",
       "            color:  #000000;\n",
       "        }    #T_c3fae19a_4714_11ea_a511_f01898ecc5abrow5_col4 {\n",
       "            background-color:  #485fd1;\n",
       "            color:  #f1f1f1;\n",
       "        }    #T_c3fae19a_4714_11ea_a511_f01898ecc5abrow5_col5 {\n",
       "            background-color:  #b40426;\n",
       "            color:  #f1f1f1;\n",
       "        }    #T_c3fae19a_4714_11ea_a511_f01898ecc5abrow5_col6 {\n",
       "            background-color:  #779af7;\n",
       "            color:  #000000;\n",
       "        }    #T_c3fae19a_4714_11ea_a511_f01898ecc5abrow5_col7 {\n",
       "            background-color:  #df634e;\n",
       "            color:  #000000;\n",
       "        }    #T_c3fae19a_4714_11ea_a511_f01898ecc5abrow5_col8 {\n",
       "            background-color:  #4a63d3;\n",
       "            color:  #f1f1f1;\n",
       "        }    #T_c3fae19a_4714_11ea_a511_f01898ecc5abrow6_col0 {\n",
       "            background-color:  #f6bea4;\n",
       "            color:  #000000;\n",
       "        }    #T_c3fae19a_4714_11ea_a511_f01898ecc5abrow6_col1 {\n",
       "            background-color:  #88abfd;\n",
       "            color:  #000000;\n",
       "        }    #T_c3fae19a_4714_11ea_a511_f01898ecc5abrow6_col2 {\n",
       "            background-color:  #9fbfff;\n",
       "            color:  #000000;\n",
       "        }    #T_c3fae19a_4714_11ea_a511_f01898ecc5abrow6_col3 {\n",
       "            background-color:  #6c8ff1;\n",
       "            color:  #000000;\n",
       "        }    #T_c3fae19a_4714_11ea_a511_f01898ecc5abrow6_col4 {\n",
       "            background-color:  #b3cdfb;\n",
       "            color:  #000000;\n",
       "        }    #T_c3fae19a_4714_11ea_a511_f01898ecc5abrow6_col5 {\n",
       "            background-color:  #aec9fc;\n",
       "            color:  #000000;\n",
       "        }    #T_c3fae19a_4714_11ea_a511_f01898ecc5abrow6_col6 {\n",
       "            background-color:  #b40426;\n",
       "            color:  #f1f1f1;\n",
       "        }    #T_c3fae19a_4714_11ea_a511_f01898ecc5abrow6_col7 {\n",
       "            background-color:  #8fb1fe;\n",
       "            color:  #000000;\n",
       "        }    #T_c3fae19a_4714_11ea_a511_f01898ecc5abrow6_col8 {\n",
       "            background-color:  #b9d0f9;\n",
       "            color:  #000000;\n",
       "        }    #T_c3fae19a_4714_11ea_a511_f01898ecc5abrow7_col0 {\n",
       "            background-color:  #6687ed;\n",
       "            color:  #000000;\n",
       "        }    #T_c3fae19a_4714_11ea_a511_f01898ecc5abrow7_col1 {\n",
       "            background-color:  #3b4cc0;\n",
       "            color:  #f1f1f1;\n",
       "        }    #T_c3fae19a_4714_11ea_a511_f01898ecc5abrow7_col2 {\n",
       "            background-color:  #3b4cc0;\n",
       "            color:  #f1f1f1;\n",
       "        }    #T_c3fae19a_4714_11ea_a511_f01898ecc5abrow7_col3 {\n",
       "            background-color:  #efcfbf;\n",
       "            color:  #000000;\n",
       "        }    #T_c3fae19a_4714_11ea_a511_f01898ecc5abrow7_col4 {\n",
       "            background-color:  #3b4cc0;\n",
       "            color:  #f1f1f1;\n",
       "        }    #T_c3fae19a_4714_11ea_a511_f01898ecc5abrow7_col5 {\n",
       "            background-color:  #e16751;\n",
       "            color:  #000000;\n",
       "        }    #T_c3fae19a_4714_11ea_a511_f01898ecc5abrow7_col6 {\n",
       "            background-color:  #455cce;\n",
       "            color:  #f1f1f1;\n",
       "        }    #T_c3fae19a_4714_11ea_a511_f01898ecc5abrow7_col7 {\n",
       "            background-color:  #b40426;\n",
       "            color:  #f1f1f1;\n",
       "        }    #T_c3fae19a_4714_11ea_a511_f01898ecc5abrow7_col8 {\n",
       "            background-color:  #4257c9;\n",
       "            color:  #f1f1f1;\n",
       "        }    #T_c3fae19a_4714_11ea_a511_f01898ecc5abrow8_col0 {\n",
       "            background-color:  #4a63d3;\n",
       "            color:  #f1f1f1;\n",
       "        }    #T_c3fae19a_4714_11ea_a511_f01898ecc5abrow8_col1 {\n",
       "            background-color:  #b7cff9;\n",
       "            color:  #000000;\n",
       "        }    #T_c3fae19a_4714_11ea_a511_f01898ecc5abrow8_col2 {\n",
       "            background-color:  #b1cbfc;\n",
       "            color:  #000000;\n",
       "        }    #T_c3fae19a_4714_11ea_a511_f01898ecc5abrow8_col3 {\n",
       "            background-color:  #b5cdfa;\n",
       "            color:  #000000;\n",
       "        }    #T_c3fae19a_4714_11ea_a511_f01898ecc5abrow8_col4 {\n",
       "            background-color:  #f4c6af;\n",
       "            color:  #000000;\n",
       "        }    #T_c3fae19a_4714_11ea_a511_f01898ecc5abrow8_col5 {\n",
       "            background-color:  #6687ed;\n",
       "            color:  #000000;\n",
       "        }    #T_c3fae19a_4714_11ea_a511_f01898ecc5abrow8_col6 {\n",
       "            background-color:  #9ebeff;\n",
       "            color:  #000000;\n",
       "        }    #T_c3fae19a_4714_11ea_a511_f01898ecc5abrow8_col7 {\n",
       "            background-color:  #6b8df0;\n",
       "            color:  #000000;\n",
       "        }    #T_c3fae19a_4714_11ea_a511_f01898ecc5abrow8_col8 {\n",
       "            background-color:  #b40426;\n",
       "            color:  #f1f1f1;\n",
       "        }</style><table id=\"T_c3fae19a_4714_11ea_a511_f01898ecc5ab\" ><thead>    <tr>        <th class=\"blank level0\" ></th>        <th class=\"col_heading level0 col0\" >0</th>        <th class=\"col_heading level0 col1\" >1</th>        <th class=\"col_heading level0 col2\" >2</th>        <th class=\"col_heading level0 col3\" >3</th>        <th class=\"col_heading level0 col4\" >4</th>        <th class=\"col_heading level0 col5\" >5</th>        <th class=\"col_heading level0 col6\" >6</th>        <th class=\"col_heading level0 col7\" >7</th>        <th class=\"col_heading level0 col8\" >8</th>    </tr></thead><tbody>\n",
       "                <tr>\n",
       "                        <th id=\"T_c3fae19a_4714_11ea_a511_f01898ecc5ablevel0_row0\" class=\"row_heading level0 row0\" >0</th>\n",
       "                        <td id=\"T_c3fae19a_4714_11ea_a511_f01898ecc5abrow0_col0\" class=\"data row0 col0\" >1</td>\n",
       "                        <td id=\"T_c3fae19a_4714_11ea_a511_f01898ecc5abrow0_col1\" class=\"data row0 col1\" >0.45957</td>\n",
       "                        <td id=\"T_c3fae19a_4714_11ea_a511_f01898ecc5abrow0_col2\" class=\"data row0 col2\" >0.195566</td>\n",
       "                        <td id=\"T_c3fae19a_4714_11ea_a511_f01898ecc5abrow0_col3\" class=\"data row0 col3\" >-0.438985</td>\n",
       "                        <td id=\"T_c3fae19a_4714_11ea_a511_f01898ecc5abrow0_col4\" class=\"data row0 col4\" >0.168087</td>\n",
       "                        <td id=\"T_c3fae19a_4714_11ea_a511_f01898ecc5abrow0_col5\" class=\"data row0 col5\" >-0.121684</td>\n",
       "                        <td id=\"T_c3fae19a_4714_11ea_a511_f01898ecc5abrow0_col6\" class=\"data row0 col6\" >0.494017</td>\n",
       "                        <td id=\"T_c3fae19a_4714_11ea_a511_f01898ecc5abrow0_col7\" class=\"data row0 col7\" >-0.238448</td>\n",
       "                        <td id=\"T_c3fae19a_4714_11ea_a511_f01898ecc5abrow0_col8\" class=\"data row0 col8\" >-0.361886</td>\n",
       "            </tr>\n",
       "            <tr>\n",
       "                        <th id=\"T_c3fae19a_4714_11ea_a511_f01898ecc5ablevel0_row1\" class=\"row_heading level0 row1\" >1</th>\n",
       "                        <td id=\"T_c3fae19a_4714_11ea_a511_f01898ecc5abrow1_col0\" class=\"data row1 col0\" >0.45957</td>\n",
       "                        <td id=\"T_c3fae19a_4714_11ea_a511_f01898ecc5abrow1_col1\" class=\"data row1 col1\" >1</td>\n",
       "                        <td id=\"T_c3fae19a_4714_11ea_a511_f01898ecc5abrow1_col2\" class=\"data row1 col2\" >0.611315</td>\n",
       "                        <td id=\"T_c3fae19a_4714_11ea_a511_f01898ecc5abrow1_col3\" class=\"data row1 col3\" >0.259963</td>\n",
       "                        <td id=\"T_c3fae19a_4714_11ea_a511_f01898ecc5abrow1_col4\" class=\"data row1 col4\" >0.447112</td>\n",
       "                        <td id=\"T_c3fae19a_4714_11ea_a511_f01898ecc5abrow1_col5\" class=\"data row1 col5\" >-0.11356</td>\n",
       "                        <td id=\"T_c3fae19a_4714_11ea_a511_f01898ecc5abrow1_col6\" class=\"data row1 col6\" >0.0362479</td>\n",
       "                        <td id=\"T_c3fae19a_4714_11ea_a511_f01898ecc5abrow1_col7\" class=\"data row1 col7\" >-0.259896</td>\n",
       "                        <td id=\"T_c3fae19a_4714_11ea_a511_f01898ecc5abrow1_col8\" class=\"data row1 col8\" >0.209784</td>\n",
       "            </tr>\n",
       "            <tr>\n",
       "                        <th id=\"T_c3fae19a_4714_11ea_a511_f01898ecc5ablevel0_row2\" class=\"row_heading level0 row2\" >2</th>\n",
       "                        <td id=\"T_c3fae19a_4714_11ea_a511_f01898ecc5abrow2_col0\" class=\"data row2 col0\" >0.195566</td>\n",
       "                        <td id=\"T_c3fae19a_4714_11ea_a511_f01898ecc5abrow2_col1\" class=\"data row2 col1\" >0.611315</td>\n",
       "                        <td id=\"T_c3fae19a_4714_11ea_a511_f01898ecc5abrow2_col2\" class=\"data row2 col2\" >1</td>\n",
       "                        <td id=\"T_c3fae19a_4714_11ea_a511_f01898ecc5abrow2_col3\" class=\"data row2 col3\" >0.251037</td>\n",
       "                        <td id=\"T_c3fae19a_4714_11ea_a511_f01898ecc5abrow2_col4\" class=\"data row2 col4\" >-0.0373521</td>\n",
       "                        <td id=\"T_c3fae19a_4714_11ea_a511_f01898ecc5abrow2_col5\" class=\"data row2 col5\" >-0.092394</td>\n",
       "                        <td id=\"T_c3fae19a_4714_11ea_a511_f01898ecc5abrow2_col6\" class=\"data row2 col6\" >0.0170831</td>\n",
       "                        <td id=\"T_c3fae19a_4714_11ea_a511_f01898ecc5abrow2_col7\" class=\"data row2 col7\" >-0.407235</td>\n",
       "                        <td id=\"T_c3fae19a_4714_11ea_a511_f01898ecc5abrow2_col8\" class=\"data row2 col8\" >0.0879038</td>\n",
       "            </tr>\n",
       "            <tr>\n",
       "                        <th id=\"T_c3fae19a_4714_11ea_a511_f01898ecc5ablevel0_row3\" class=\"row_heading level0 row3\" >3</th>\n",
       "                        <td id=\"T_c3fae19a_4714_11ea_a511_f01898ecc5abrow3_col0\" class=\"data row3 col0\" >-0.438985</td>\n",
       "                        <td id=\"T_c3fae19a_4714_11ea_a511_f01898ecc5abrow3_col1\" class=\"data row3 col1\" >0.259963</td>\n",
       "                        <td id=\"T_c3fae19a_4714_11ea_a511_f01898ecc5abrow3_col2\" class=\"data row3 col2\" >0.251037</td>\n",
       "                        <td id=\"T_c3fae19a_4714_11ea_a511_f01898ecc5abrow3_col3\" class=\"data row3 col3\" >1</td>\n",
       "                        <td id=\"T_c3fae19a_4714_11ea_a511_f01898ecc5abrow3_col4\" class=\"data row3 col4\" >-0.14748</td>\n",
       "                        <td id=\"T_c3fae19a_4714_11ea_a511_f01898ecc5abrow3_col5\" class=\"data row3 col5\" >0.645247</td>\n",
       "                        <td id=\"T_c3fae19a_4714_11ea_a511_f01898ecc5abrow3_col6\" class=\"data row3 col6\" >-0.211751</td>\n",
       "                        <td id=\"T_c3fae19a_4714_11ea_a511_f01898ecc5abrow3_col7\" class=\"data row3 col7\" >0.397388</td>\n",
       "                        <td id=\"T_c3fae19a_4714_11ea_a511_f01898ecc5abrow3_col8\" class=\"data row3 col8\" >0.084496</td>\n",
       "            </tr>\n",
       "            <tr>\n",
       "                        <th id=\"T_c3fae19a_4714_11ea_a511_f01898ecc5ablevel0_row4\" class=\"row_heading level0 row4\" >4</th>\n",
       "                        <td id=\"T_c3fae19a_4714_11ea_a511_f01898ecc5abrow4_col0\" class=\"data row4 col0\" >0.168087</td>\n",
       "                        <td id=\"T_c3fae19a_4714_11ea_a511_f01898ecc5abrow4_col1\" class=\"data row4 col1\" >0.447112</td>\n",
       "                        <td id=\"T_c3fae19a_4714_11ea_a511_f01898ecc5abrow4_col2\" class=\"data row4 col2\" >-0.0373521</td>\n",
       "                        <td id=\"T_c3fae19a_4714_11ea_a511_f01898ecc5abrow4_col3\" class=\"data row4 col3\" >-0.14748</td>\n",
       "                        <td id=\"T_c3fae19a_4714_11ea_a511_f01898ecc5abrow4_col4\" class=\"data row4 col4\" >1</td>\n",
       "                        <td id=\"T_c3fae19a_4714_11ea_a511_f01898ecc5abrow4_col5\" class=\"data row4 col5\" >-0.500359</td>\n",
       "                        <td id=\"T_c3fae19a_4714_11ea_a511_f01898ecc5abrow4_col6\" class=\"data row4 col6\" >0.000303618</td>\n",
       "                        <td id=\"T_c3fae19a_4714_11ea_a511_f01898ecc5abrow4_col7\" class=\"data row4 col7\" >-0.568069</td>\n",
       "                        <td id=\"T_c3fae19a_4714_11ea_a511_f01898ecc5abrow4_col8\" class=\"data row4 col8\" >0.405314</td>\n",
       "            </tr>\n",
       "            <tr>\n",
       "                        <th id=\"T_c3fae19a_4714_11ea_a511_f01898ecc5ablevel0_row5\" class=\"row_heading level0 row5\" >5</th>\n",
       "                        <td id=\"T_c3fae19a_4714_11ea_a511_f01898ecc5abrow5_col0\" class=\"data row5 col0\" >-0.121684</td>\n",
       "                        <td id=\"T_c3fae19a_4714_11ea_a511_f01898ecc5abrow5_col1\" class=\"data row5 col1\" >-0.11356</td>\n",
       "                        <td id=\"T_c3fae19a_4714_11ea_a511_f01898ecc5abrow5_col2\" class=\"data row5 col2\" >-0.092394</td>\n",
       "                        <td id=\"T_c3fae19a_4714_11ea_a511_f01898ecc5abrow5_col3\" class=\"data row5 col3\" >0.645247</td>\n",
       "                        <td id=\"T_c3fae19a_4714_11ea_a511_f01898ecc5abrow5_col4\" class=\"data row5 col4\" >-0.500359</td>\n",
       "                        <td id=\"T_c3fae19a_4714_11ea_a511_f01898ecc5abrow5_col5\" class=\"data row5 col5\" >1</td>\n",
       "                        <td id=\"T_c3fae19a_4714_11ea_a511_f01898ecc5abrow5_col6\" class=\"data row5 col6\" >0.0189393</td>\n",
       "                        <td id=\"T_c3fae19a_4714_11ea_a511_f01898ecc5abrow5_col7\" class=\"data row5 col7\" >0.792286</td>\n",
       "                        <td id=\"T_c3fae19a_4714_11ea_a511_f01898ecc5abrow5_col8\" class=\"data row5 col8\" >-0.291083</td>\n",
       "            </tr>\n",
       "            <tr>\n",
       "                        <th id=\"T_c3fae19a_4714_11ea_a511_f01898ecc5ablevel0_row6\" class=\"row_heading level0 row6\" >6</th>\n",
       "                        <td id=\"T_c3fae19a_4714_11ea_a511_f01898ecc5abrow6_col0\" class=\"data row6 col0\" >0.494017</td>\n",
       "                        <td id=\"T_c3fae19a_4714_11ea_a511_f01898ecc5abrow6_col1\" class=\"data row6 col1\" >0.0362479</td>\n",
       "                        <td id=\"T_c3fae19a_4714_11ea_a511_f01898ecc5abrow6_col2\" class=\"data row6 col2\" >0.0170831</td>\n",
       "                        <td id=\"T_c3fae19a_4714_11ea_a511_f01898ecc5abrow6_col3\" class=\"data row6 col3\" >-0.211751</td>\n",
       "                        <td id=\"T_c3fae19a_4714_11ea_a511_f01898ecc5abrow6_col4\" class=\"data row6 col4\" >0.000303618</td>\n",
       "                        <td id=\"T_c3fae19a_4714_11ea_a511_f01898ecc5abrow6_col5\" class=\"data row6 col5\" >0.0189393</td>\n",
       "                        <td id=\"T_c3fae19a_4714_11ea_a511_f01898ecc5abrow6_col6\" class=\"data row6 col6\" >1</td>\n",
       "                        <td id=\"T_c3fae19a_4714_11ea_a511_f01898ecc5abrow6_col7\" class=\"data row6 col7\" >-0.166828</td>\n",
       "                        <td id=\"T_c3fae19a_4714_11ea_a511_f01898ecc5abrow6_col8\" class=\"data row6 col8\" >0.149443</td>\n",
       "            </tr>\n",
       "            <tr>\n",
       "                        <th id=\"T_c3fae19a_4714_11ea_a511_f01898ecc5ablevel0_row7\" class=\"row_heading level0 row7\" >7</th>\n",
       "                        <td id=\"T_c3fae19a_4714_11ea_a511_f01898ecc5abrow7_col0\" class=\"data row7 col0\" >-0.238448</td>\n",
       "                        <td id=\"T_c3fae19a_4714_11ea_a511_f01898ecc5abrow7_col1\" class=\"data row7 col1\" >-0.259896</td>\n",
       "                        <td id=\"T_c3fae19a_4714_11ea_a511_f01898ecc5abrow7_col2\" class=\"data row7 col2\" >-0.407235</td>\n",
       "                        <td id=\"T_c3fae19a_4714_11ea_a511_f01898ecc5abrow7_col3\" class=\"data row7 col3\" >0.397388</td>\n",
       "                        <td id=\"T_c3fae19a_4714_11ea_a511_f01898ecc5abrow7_col4\" class=\"data row7 col4\" >-0.568069</td>\n",
       "                        <td id=\"T_c3fae19a_4714_11ea_a511_f01898ecc5abrow7_col5\" class=\"data row7 col5\" >0.792286</td>\n",
       "                        <td id=\"T_c3fae19a_4714_11ea_a511_f01898ecc5abrow7_col6\" class=\"data row7 col6\" >-0.166828</td>\n",
       "                        <td id=\"T_c3fae19a_4714_11ea_a511_f01898ecc5abrow7_col7\" class=\"data row7 col7\" >1</td>\n",
       "                        <td id=\"T_c3fae19a_4714_11ea_a511_f01898ecc5abrow7_col8\" class=\"data row7 col8\" >-0.325124</td>\n",
       "            </tr>\n",
       "            <tr>\n",
       "                        <th id=\"T_c3fae19a_4714_11ea_a511_f01898ecc5ablevel0_row8\" class=\"row_heading level0 row8\" >8</th>\n",
       "                        <td id=\"T_c3fae19a_4714_11ea_a511_f01898ecc5abrow8_col0\" class=\"data row8 col0\" >-0.361886</td>\n",
       "                        <td id=\"T_c3fae19a_4714_11ea_a511_f01898ecc5abrow8_col1\" class=\"data row8 col1\" >0.209784</td>\n",
       "                        <td id=\"T_c3fae19a_4714_11ea_a511_f01898ecc5abrow8_col2\" class=\"data row8 col2\" >0.0879038</td>\n",
       "                        <td id=\"T_c3fae19a_4714_11ea_a511_f01898ecc5abrow8_col3\" class=\"data row8 col3\" >0.084496</td>\n",
       "                        <td id=\"T_c3fae19a_4714_11ea_a511_f01898ecc5abrow8_col4\" class=\"data row8 col4\" >0.405314</td>\n",
       "                        <td id=\"T_c3fae19a_4714_11ea_a511_f01898ecc5abrow8_col5\" class=\"data row8 col5\" >-0.291083</td>\n",
       "                        <td id=\"T_c3fae19a_4714_11ea_a511_f01898ecc5abrow8_col6\" class=\"data row8 col6\" >0.149443</td>\n",
       "                        <td id=\"T_c3fae19a_4714_11ea_a511_f01898ecc5abrow8_col7\" class=\"data row8 col7\" >-0.325124</td>\n",
       "                        <td id=\"T_c3fae19a_4714_11ea_a511_f01898ecc5abrow8_col8\" class=\"data row8 col8\" >1</td>\n",
       "            </tr>\n",
       "    </tbody></table>"
      ],
      "text/plain": [
       "<pandas.io.formats.style.Styler at 0x7f9c7117ec50>"
      ]
     },
     "execution_count": 5,
     "metadata": {},
     "output_type": "execute_result"
    }
   ],
   "source": [
    "import matplotlib.pyplot as plt\n",
    "\n",
    "rs = np.random.RandomState(0)\n",
    "df = pd.DataFrame(rs.rand(9,9))\n",
    "corr = df.corr()\n",
    "corr.style.background_gradient(cmap='coolwarm')"
   ]
  },
  {
   "cell_type": "code",
   "execution_count": 6,
   "metadata": {
    "scrolled": true
   },
   "outputs": [
    {
     "data": {
      "text/html": [
       "<div>\n",
       "<style scoped>\n",
       "    .dataframe tbody tr th:only-of-type {\n",
       "        vertical-align: middle;\n",
       "    }\n",
       "\n",
       "    .dataframe tbody tr th {\n",
       "        vertical-align: top;\n",
       "    }\n",
       "\n",
       "    .dataframe thead th {\n",
       "        text-align: right;\n",
       "    }\n",
       "</style>\n",
       "<table border=\"1\" class=\"dataframe\">\n",
       "  <thead>\n",
       "    <tr style=\"text-align: right;\">\n",
       "      <th></th>\n",
       "      <th>Serial No.</th>\n",
       "      <th>GRE Score</th>\n",
       "      <th>TOEFL Score</th>\n",
       "      <th>University Rating</th>\n",
       "      <th>SOP</th>\n",
       "      <th>LOR</th>\n",
       "      <th>CGPA</th>\n",
       "      <th>Research</th>\n",
       "      <th>Chance of Admit</th>\n",
       "    </tr>\n",
       "  </thead>\n",
       "  <tbody>\n",
       "    <tr>\n",
       "      <th>Serial No.</th>\n",
       "      <td>1.000000</td>\n",
       "      <td>-0.097526</td>\n",
       "      <td>-0.147932</td>\n",
       "      <td>-0.169948</td>\n",
       "      <td>-0.166932</td>\n",
       "      <td>-0.088221</td>\n",
       "      <td>-0.045608</td>\n",
       "      <td>-0.063138</td>\n",
       "      <td>0.042336</td>\n",
       "    </tr>\n",
       "    <tr>\n",
       "      <th>GRE Score</th>\n",
       "      <td>-0.097526</td>\n",
       "      <td>1.000000</td>\n",
       "      <td>0.835977</td>\n",
       "      <td>0.668976</td>\n",
       "      <td>0.612831</td>\n",
       "      <td>0.557555</td>\n",
       "      <td>0.833060</td>\n",
       "      <td>0.580391</td>\n",
       "      <td>0.802610</td>\n",
       "    </tr>\n",
       "    <tr>\n",
       "      <th>TOEFL Score</th>\n",
       "      <td>-0.147932</td>\n",
       "      <td>0.835977</td>\n",
       "      <td>1.000000</td>\n",
       "      <td>0.695590</td>\n",
       "      <td>0.657981</td>\n",
       "      <td>0.567721</td>\n",
       "      <td>0.828417</td>\n",
       "      <td>0.489858</td>\n",
       "      <td>0.791594</td>\n",
       "    </tr>\n",
       "    <tr>\n",
       "      <th>University Rating</th>\n",
       "      <td>-0.169948</td>\n",
       "      <td>0.668976</td>\n",
       "      <td>0.695590</td>\n",
       "      <td>1.000000</td>\n",
       "      <td>0.734523</td>\n",
       "      <td>0.660123</td>\n",
       "      <td>0.746479</td>\n",
       "      <td>0.447783</td>\n",
       "      <td>0.711250</td>\n",
       "    </tr>\n",
       "    <tr>\n",
       "      <th>SOP</th>\n",
       "      <td>-0.166932</td>\n",
       "      <td>0.612831</td>\n",
       "      <td>0.657981</td>\n",
       "      <td>0.734523</td>\n",
       "      <td>1.000000</td>\n",
       "      <td>0.729593</td>\n",
       "      <td>0.718144</td>\n",
       "      <td>0.444029</td>\n",
       "      <td>0.675732</td>\n",
       "    </tr>\n",
       "    <tr>\n",
       "      <th>LOR</th>\n",
       "      <td>-0.088221</td>\n",
       "      <td>0.557555</td>\n",
       "      <td>0.567721</td>\n",
       "      <td>0.660123</td>\n",
       "      <td>0.729593</td>\n",
       "      <td>1.000000</td>\n",
       "      <td>0.670211</td>\n",
       "      <td>0.396859</td>\n",
       "      <td>0.669889</td>\n",
       "    </tr>\n",
       "    <tr>\n",
       "      <th>CGPA</th>\n",
       "      <td>-0.045608</td>\n",
       "      <td>0.833060</td>\n",
       "      <td>0.828417</td>\n",
       "      <td>0.746479</td>\n",
       "      <td>0.718144</td>\n",
       "      <td>0.670211</td>\n",
       "      <td>1.000000</td>\n",
       "      <td>0.521654</td>\n",
       "      <td>0.873289</td>\n",
       "    </tr>\n",
       "    <tr>\n",
       "      <th>Research</th>\n",
       "      <td>-0.063138</td>\n",
       "      <td>0.580391</td>\n",
       "      <td>0.489858</td>\n",
       "      <td>0.447783</td>\n",
       "      <td>0.444029</td>\n",
       "      <td>0.396859</td>\n",
       "      <td>0.521654</td>\n",
       "      <td>1.000000</td>\n",
       "      <td>0.553202</td>\n",
       "    </tr>\n",
       "    <tr>\n",
       "      <th>Chance of Admit</th>\n",
       "      <td>0.042336</td>\n",
       "      <td>0.802610</td>\n",
       "      <td>0.791594</td>\n",
       "      <td>0.711250</td>\n",
       "      <td>0.675732</td>\n",
       "      <td>0.669889</td>\n",
       "      <td>0.873289</td>\n",
       "      <td>0.553202</td>\n",
       "      <td>1.000000</td>\n",
       "    </tr>\n",
       "  </tbody>\n",
       "</table>\n",
       "</div>"
      ],
      "text/plain": [
       "                   Serial No.  GRE Score  TOEFL Score  University Rating  \\\n",
       "Serial No.           1.000000  -0.097526    -0.147932          -0.169948   \n",
       "GRE Score           -0.097526   1.000000     0.835977           0.668976   \n",
       "TOEFL Score         -0.147932   0.835977     1.000000           0.695590   \n",
       "University Rating   -0.169948   0.668976     0.695590           1.000000   \n",
       "SOP                 -0.166932   0.612831     0.657981           0.734523   \n",
       "LOR                 -0.088221   0.557555     0.567721           0.660123   \n",
       "CGPA                -0.045608   0.833060     0.828417           0.746479   \n",
       "Research            -0.063138   0.580391     0.489858           0.447783   \n",
       "Chance of Admit      0.042336   0.802610     0.791594           0.711250   \n",
       "\n",
       "                        SOP      LOR       CGPA  Research  Chance of Admit   \n",
       "Serial No.        -0.166932 -0.088221 -0.045608 -0.063138          0.042336  \n",
       "GRE Score          0.612831  0.557555  0.833060  0.580391          0.802610  \n",
       "TOEFL Score        0.657981  0.567721  0.828417  0.489858          0.791594  \n",
       "University Rating  0.734523  0.660123  0.746479  0.447783          0.711250  \n",
       "SOP                1.000000  0.729593  0.718144  0.444029          0.675732  \n",
       "LOR                0.729593  1.000000  0.670211  0.396859          0.669889  \n",
       "CGPA               0.718144  0.670211  1.000000  0.521654          0.873289  \n",
       "Research           0.444029  0.396859  0.521654  1.000000          0.553202  \n",
       "Chance of Admit    0.675732  0.669889  0.873289  0.553202          1.000000  "
      ]
     },
     "execution_count": 6,
     "metadata": {},
     "output_type": "execute_result"
    }
   ],
   "source": [
    "#correlation matrix\n",
    "cor  = data.corr()\n",
    "cor"
   ]
  },
  {
   "cell_type": "code",
   "execution_count": 7,
   "metadata": {},
   "outputs": [
    {
     "data": {
      "text/plain": [
       "Index(['Serial No.', 'GRE Score', 'TOEFL Score', 'University Rating', 'SOP',\n",
       "       'LOR ', 'CGPA', 'Research', 'Chance of Admit '],\n",
       "      dtype='object')"
      ]
     },
     "execution_count": 7,
     "metadata": {},
     "output_type": "execute_result"
    }
   ],
   "source": [
    "data.columns"
   ]
  },
  {
   "cell_type": "code",
   "execution_count": 84,
   "metadata": {},
   "outputs": [
    {
     "data": {
      "text/plain": [
       "GRE Score            0.802610\n",
       "TOEFL Score          0.791594\n",
       "University Rating    0.711250\n",
       "SOP                  0.675732\n",
       "LOR                  0.669889\n",
       "CGPA                 0.873289\n",
       "Chance of Admit      1.000000\n",
       "Name: Chance of Admit , dtype: float64"
      ]
     },
     "execution_count": 84,
     "metadata": {},
     "output_type": "execute_result"
    }
   ],
   "source": [
    "#List the variables with highest correlation with output variable\n",
    "#Correlation with output variable\n",
    "cor_target = abs(cor[\"Chance of Admit \"])\n",
    "\n",
    "#Selecting highly correlated features\n",
    "relevant_features = cor_target[cor_target>0.6]\n",
    "relevant_features"
   ]
  },
  {
   "cell_type": "markdown",
   "metadata": {},
   "source": [
    "So correlation matrix gives us some idea of how all the variables in our dataset are correlated to our output variable chance of admit."
   ]
  },
  {
   "cell_type": "markdown",
   "metadata": {},
   "source": [
    "Based on the research i did i have categrised the GRE Score into 4 categories.\n",
    "1.Excellent(score>=335)\n",
    "2.Better(score>=321.5)\n",
    "3.Good(score>=309)\n",
    "4.Below average(score<=307.5)\n",
    "\n",
    "Note : GRE is exam is conducted for total of 340 marks"
   ]
  },
  {
   "cell_type": "code",
   "execution_count": 63,
   "metadata": {},
   "outputs": [
    {
     "data": {
      "text/plain": [
       "25"
      ]
     },
     "execution_count": 63,
     "metadata": {},
     "output_type": "execute_result"
    }
   ],
   "source": [
    "# Number of people who fall in excellent category\n",
    "excellent = data[data['GRE Score'] >= 335]\n",
    "excellent['GRE Score'].count()"
   ]
  },
  {
   "cell_type": "code",
   "execution_count": 75,
   "metadata": {},
   "outputs": [
    {
     "data": {
      "text/plain": [
       "125"
      ]
     },
     "execution_count": 75,
     "metadata": {},
     "output_type": "execute_result"
    }
   ],
   "source": [
    "# Number of people who fall in Better score category\n",
    "Better = data[(data['GRE Score'] >= 321.5) & (data['GRE Score'] <= 334)]\n",
    "Better['GRE Score'].count()"
   ]
  },
  {
   "cell_type": "code",
   "execution_count": 76,
   "metadata": {},
   "outputs": [
    {
     "data": {
      "text/plain": [
       "136"
      ]
     },
     "execution_count": 76,
     "metadata": {},
     "output_type": "execute_result"
    }
   ],
   "source": [
    "# Number of people who fall in Good Score category\n",
    "Good = data[(data['GRE Score'] >= 309) & (data['GRE Score'] <= 320)]\n",
    "Good['GRE Score'].count()"
   ]
  },
  {
   "cell_type": "code",
   "execution_count": 67,
   "metadata": {},
   "outputs": [
    {
     "data": {
      "text/plain": [
       "90"
      ]
     },
     "execution_count": 67,
     "metadata": {},
     "output_type": "execute_result"
    }
   ],
   "source": [
    "# Number of people who fall in Below Average category\n",
    "Below_Average = data[data['GRE Score'] <= 307.5]\n",
    "Below_Average['GRE Score'].count()"
   ]
  },
  {
   "cell_type": "code",
   "execution_count": 62,
   "metadata": {},
   "outputs": [
    {
     "data": {
      "image/png": "[encoded data removed]",
      "text/plain": [
       "<Figure size 432x288 with 1 Axes>"
      ]
     },
     "metadata": {
      "needs_background": "light"
     },
     "output_type": "display_data"
    }
   ],
   "source": [
    "# Number of people who have done research and not done research\n",
    "# 1=done research\n",
    "# 0=not done research\n",
    "data['Research'].value_counts().plot(kind='bar');"
   ]
  },
  {
   "cell_type": "markdown",
   "metadata": {},
   "source": [
    "From the above graph we can see that number of students who have done rsearch are more in our dataset compared to those who havent done research."
   ]
  },
  {
   "cell_type": "code",
   "execution_count": 77,
   "metadata": {},
   "outputs": [
    {
     "data": {
      "text/plain": [
       "128"
      ]
     },
     "execution_count": 77,
     "metadata": {},
     "output_type": "execute_result"
    }
   ],
   "source": [
    "# Number of people having more than 80% chance of getting admission are\n",
    "Good_chance = data[data['Chance of Admit '] >= 0.8]\n",
    "Good_chance['Chance of Admit '].count()"
   ]
  },
  {
   "cell_type": "code",
   "execution_count": 78,
   "metadata": {},
   "outputs": [
    {
     "data": {
      "image/png": "[encoded data removed]",
      "text/plain": [
       "<Figure size 432x288 with 1 Axes>"
      ]
     },
     "metadata": {
      "needs_background": "light"
     },
     "output_type": "display_data"
    }
   ],
   "source": [
    "# Dividing students in dataset based on university rating and \n",
    "# plotting the bar graph to count the number of students falling in different categories of universities.\n",
    "data['University Rating'].value_counts().plot(kind='bar');"
   ]
  },
  {
   "cell_type": "markdown",
   "metadata": {},
   "source": [
    "From the above graph, it can be seen that maximum number of the students in our dataset are from the universisties having rating 3. ie, average college. "
   ]
  },
  {
   "cell_type": "code",
   "execution_count": 83,
   "metadata": {},
   "outputs": [
    {
     "data": {
      "text/plain": [
       "<matplotlib.collections.PathCollection at 0x7f9c6047e4e0>"
      ]
     },
     "execution_count": 83,
     "metadata": {},
     "output_type": "execute_result"
    },
    {
     "data": {
      "image/png": "[encoded data removed]",
      "text/plain": [
       "<Figure size 432x288 with 1 Axes>"
      ]
     },
     "metadata": {
      "needs_background": "light"
     },
     "output_type": "display_data"
    }
   ],
   "source": [
    "# scatter plot to check where our data is more concentrated based on TOEFL score\n",
    "plt.scatter(data['TOEFL Score'],data['Serial No.'],color='b')"
   ]
  },
  {
   "cell_type": "markdown",
   "metadata": {},
   "source": [
    "From the above graph we can say that most of the students in our dataset have TOEFL score in the range 105 to 115."
   ]
  },
  {
   "cell_type": "code",
   "execution_count": 95,
   "metadata": {},
   "outputs": [
    {
     "data": {
      "text/html": [
       "<div>\n",
       "<style scoped>\n",
       "    .dataframe tbody tr th:only-of-type {\n",
       "        vertical-align: middle;\n",
       "    }\n",
       "\n",
       "    .dataframe tbody tr th {\n",
       "        vertical-align: top;\n",
       "    }\n",
       "\n",
       "    .dataframe thead th {\n",
       "        text-align: right;\n",
       "    }\n",
       "</style>\n",
       "<table border=\"1\" class=\"dataframe\">\n",
       "  <thead>\n",
       "    <tr style=\"text-align: right;\">\n",
       "      <th></th>\n",
       "      <th>Serial No.</th>\n",
       "      <th>GRE Score</th>\n",
       "      <th>TOEFL Score</th>\n",
       "      <th>University Rating</th>\n",
       "      <th>SOP</th>\n",
       "      <th>LOR</th>\n",
       "      <th>CGPA</th>\n",
       "      <th>Research</th>\n",
       "      <th>Chance of Admit</th>\n",
       "    </tr>\n",
       "  </thead>\n",
       "  <tbody>\n",
       "    <tr>\n",
       "      <th>0</th>\n",
       "      <td>1</td>\n",
       "      <td>337</td>\n",
       "      <td>118</td>\n",
       "      <td>4</td>\n",
       "      <td>4.5</td>\n",
       "      <td>4.5</td>\n",
       "      <td>9.65</td>\n",
       "      <td>1</td>\n",
       "      <td>0.92</td>\n",
       "    </tr>\n",
       "    <tr>\n",
       "      <th>1</th>\n",
       "      <td>2</td>\n",
       "      <td>324</td>\n",
       "      <td>107</td>\n",
       "      <td>4</td>\n",
       "      <td>4.0</td>\n",
       "      <td>4.5</td>\n",
       "      <td>8.87</td>\n",
       "      <td>1</td>\n",
       "      <td>0.76</td>\n",
       "    </tr>\n",
       "    <tr>\n",
       "      <th>2</th>\n",
       "      <td>3</td>\n",
       "      <td>316</td>\n",
       "      <td>104</td>\n",
       "      <td>3</td>\n",
       "      <td>3.0</td>\n",
       "      <td>3.5</td>\n",
       "      <td>8.00</td>\n",
       "      <td>1</td>\n",
       "      <td>0.72</td>\n",
       "    </tr>\n",
       "    <tr>\n",
       "      <th>3</th>\n",
       "      <td>4</td>\n",
       "      <td>322</td>\n",
       "      <td>110</td>\n",
       "      <td>3</td>\n",
       "      <td>3.5</td>\n",
       "      <td>2.5</td>\n",
       "      <td>8.67</td>\n",
       "      <td>1</td>\n",
       "      <td>0.80</td>\n",
       "    </tr>\n",
       "    <tr>\n",
       "      <th>4</th>\n",
       "      <td>5</td>\n",
       "      <td>314</td>\n",
       "      <td>103</td>\n",
       "      <td>2</td>\n",
       "      <td>2.0</td>\n",
       "      <td>3.0</td>\n",
       "      <td>8.21</td>\n",
       "      <td>0</td>\n",
       "      <td>0.65</td>\n",
       "    </tr>\n",
       "  </tbody>\n",
       "</table>\n",
       "</div>"
      ],
      "text/plain": [
       "   Serial No.  GRE Score  TOEFL Score  University Rating  SOP  LOR   CGPA  \\\n",
       "0           1        337          118                  4  4.5   4.5  9.65   \n",
       "1           2        324          107                  4  4.0   4.5  8.87   \n",
       "2           3        316          104                  3  3.0   3.5  8.00   \n",
       "3           4        322          110                  3  3.5   2.5  8.67   \n",
       "4           5        314          103                  2  2.0   3.0  8.21   \n",
       "\n",
       "   Research  Chance of Admit   \n",
       "0         1              0.92  \n",
       "1         1              0.76  \n",
       "2         1              0.72  \n",
       "3         1              0.80  \n",
       "4         0              0.65  "
      ]
     },
     "execution_count": 95,
     "metadata": {},
     "output_type": "execute_result"
    }
   ],
   "source": [
    "data.head()"
   ]
  },
  {
   "cell_type": "code",
   "execution_count": 107,
   "metadata": {},
   "outputs": [
    {
     "data": {
      "text/html": [
       "<div>\n",
       "<style scoped>\n",
       "    .dataframe tbody tr th:only-of-type {\n",
       "        vertical-align: middle;\n",
       "    }\n",
       "\n",
       "    .dataframe tbody tr th {\n",
       "        vertical-align: top;\n",
       "    }\n",
       "\n",
       "    .dataframe thead th {\n",
       "        text-align: right;\n",
       "    }\n",
       "</style>\n",
       "<table border=\"1\" class=\"dataframe\">\n",
       "  <thead>\n",
       "    <tr style=\"text-align: right;\">\n",
       "      <th></th>\n",
       "      <th>GRE Score</th>\n",
       "      <th>TOEFL Score</th>\n",
       "      <th>University Rating</th>\n",
       "      <th>SOP</th>\n",
       "      <th>LOR</th>\n",
       "      <th>CGPA</th>\n",
       "      <th>Research</th>\n",
       "    </tr>\n",
       "  </thead>\n",
       "  <tbody>\n",
       "    <tr>\n",
       "      <th>0</th>\n",
       "      <td>337</td>\n",
       "      <td>118</td>\n",
       "      <td>4</td>\n",
       "      <td>4.5</td>\n",
       "      <td>4.5</td>\n",
       "      <td>9.65</td>\n",
       "      <td>1</td>\n",
       "    </tr>\n",
       "    <tr>\n",
       "      <th>1</th>\n",
       "      <td>324</td>\n",
       "      <td>107</td>\n",
       "      <td>4</td>\n",
       "      <td>4.0</td>\n",
       "      <td>4.5</td>\n",
       "      <td>8.87</td>\n",
       "      <td>1</td>\n",
       "    </tr>\n",
       "    <tr>\n",
       "      <th>2</th>\n",
       "      <td>316</td>\n",
       "      <td>104</td>\n",
       "      <td>3</td>\n",
       "      <td>3.0</td>\n",
       "      <td>3.5</td>\n",
       "      <td>8.00</td>\n",
       "      <td>1</td>\n",
       "    </tr>\n",
       "    <tr>\n",
       "      <th>3</th>\n",
       "      <td>322</td>\n",
       "      <td>110</td>\n",
       "      <td>3</td>\n",
       "      <td>3.5</td>\n",
       "      <td>2.5</td>\n",
       "      <td>8.67</td>\n",
       "      <td>1</td>\n",
       "    </tr>\n",
       "    <tr>\n",
       "      <th>4</th>\n",
       "      <td>314</td>\n",
       "      <td>103</td>\n",
       "      <td>2</td>\n",
       "      <td>2.0</td>\n",
       "      <td>3.0</td>\n",
       "      <td>8.21</td>\n",
       "      <td>0</td>\n",
       "    </tr>\n",
       "  </tbody>\n",
       "</table>\n",
       "</div>"
      ],
      "text/plain": [
       "   GRE Score  TOEFL Score  University Rating  SOP  LOR   CGPA  Research\n",
       "0        337          118                  4  4.5   4.5  9.65         1\n",
       "1        324          107                  4  4.0   4.5  8.87         1\n",
       "2        316          104                  3  3.0   3.5  8.00         1\n",
       "3        322          110                  3  3.5   2.5  8.67         1\n",
       "4        314          103                  2  2.0   3.0  8.21         0"
      ]
     },
     "execution_count": 107,
     "metadata": {},
     "output_type": "execute_result"
    }
   ],
   "source": [
    "# We shouldn't include serial no. column in our x variable\n",
    "data.iloc[:,1:-1].head()"
   ]
  },
  {
   "cell_type": "code",
   "execution_count": 109,
   "metadata": {},
   "outputs": [
    {
     "data": {
      "text/plain": [
       "0      0.92\n",
       "1      0.76\n",
       "2      0.72\n",
       "3      0.80\n",
       "4      0.65\n",
       "       ... \n",
       "395    0.82\n",
       "396    0.84\n",
       "397    0.91\n",
       "398    0.67\n",
       "399    0.95\n",
       "Name: Chance of Admit , Length: 400, dtype: float64"
      ]
     },
     "execution_count": 109,
     "metadata": {},
     "output_type": "execute_result"
    }
   ],
   "source": [
    "# set chance of admit as your target or y variable\n",
    "data.iloc[:,-1]"
   ]
  },
  {
   "cell_type": "code",
   "execution_count": 111,
   "metadata": {},
   "outputs": [],
   "source": [
    "# Setting the values for x and y variables\n",
    "# ie, our labels and target value\n",
    "x = data.iloc[:,1:-1].values\n",
    "y = data.iloc[:,-1].values"
   ]
  },
  {
   "cell_type": "code",
   "execution_count": 114,
   "metadata": {},
   "outputs": [],
   "source": [
    "# Using the Hold Out method for cross validation\n",
    "from sklearn.model_selection import train_test_split\n",
    "\n",
    "X_train, X_test, y_train, y_test = train_test_split(x,y, test_size = 0.25, random_state = 0)"
   ]
  },
  {
   "cell_type": "code",
   "execution_count": 115,
   "metadata": {},
   "outputs": [
    {
     "data": {
      "text/plain": [
       "(300, 7)"
      ]
     },
     "execution_count": 115,
     "metadata": {},
     "output_type": "execute_result"
    }
   ],
   "source": [
    "X_train.shape"
   ]
  },
  {
   "cell_type": "markdown",
   "metadata": {},
   "source": [
    "300 rows out of 4oo rows are selected for training and 7 columns are selected as our labeled data."
   ]
  },
  {
   "cell_type": "code",
   "execution_count": 116,
   "metadata": {},
   "outputs": [
    {
     "data": {
      "text/plain": [
       "(300,)"
      ]
     },
     "execution_count": 116,
     "metadata": {},
     "output_type": "execute_result"
    }
   ],
   "source": [
    "y_train.shape"
   ]
  },
  {
   "cell_type": "markdown",
   "metadata": {},
   "source": [
    "300 rows out of 400 rows are selected for training and 1 column is selected as our target concept."
   ]
  },
  {
   "cell_type": "code",
   "execution_count": 117,
   "metadata": {},
   "outputs": [
    {
     "data": {
      "text/plain": [
       "LinearRegression(copy_X=True, fit_intercept=True, n_jobs=None, normalize=False)"
      ]
     },
     "execution_count": 117,
     "metadata": {},
     "output_type": "execute_result"
    }
   ],
   "source": [
    "# fitting the simple linear regression model on our training data\n",
    "from sklearn.linear_model import LinearRegression\n",
    "reg = LinearRegression()\n",
    "reg.fit(X_train,y_train)"
   ]
  },
  {
   "cell_type": "code",
   "execution_count": 118,
   "metadata": {},
   "outputs": [
    {
     "data": {
      "text/plain": [
       "0.7248631204868363"
      ]
     },
     "execution_count": 118,
     "metadata": {},
     "output_type": "execute_result"
    }
   ],
   "source": [
    "reg.score(X_test,y_test)"
   ]
  },
  {
   "cell_type": "code",
   "execution_count": 158,
   "metadata": {},
   "outputs": [],
   "source": [
    "x = data.iloc[:,1:-1].values\n",
    "y = data.iloc[:,-1].values\n",
    "y=y>0.5"
   ]
  },
  {
   "cell_type": "code",
   "execution_count": 159,
   "metadata": {},
   "outputs": [
    {
     "data": {
      "text/plain": [
       "array([ True,  True,  True,  True,  True,  True,  True,  True, False,\n",
       "       False,  True,  True,  True,  True,  True,  True,  True,  True,\n",
       "        True,  True,  True,  True,  True,  True,  True,  True,  True,\n",
       "       False, False,  True,  True,  True,  True,  True,  True,  True,\n",
       "        True,  True,  True, False, False, False,  True,  True,  True,\n",
       "        True,  True,  True,  True,  True,  True,  True,  True,  True,\n",
       "        True,  True,  True, False, False, False, False, False,  True,\n",
       "        True,  True,  True,  True,  True,  True,  True,  True,  True,\n",
       "        True,  True,  True,  True,  True,  True, False, False, False,\n",
       "        True,  True,  True,  True,  True,  True,  True,  True,  True,\n",
       "        True, False, False, False, False, False, False,  True,  True,\n",
       "        True,  True,  True,  True,  True,  True,  True,  True,  True,\n",
       "        True,  True,  True,  True,  True,  True,  True,  True,  True,\n",
       "       False, False,  True,  True,  True,  True,  True,  True,  True,\n",
       "        True,  True,  True,  True,  True,  True,  True,  True,  True,\n",
       "        True,  True,  True,  True,  True,  True,  True,  True,  True,\n",
       "        True,  True,  True,  True,  True,  True,  True,  True,  True,\n",
       "        True,  True,  True,  True,  True,  True,  True,  True,  True,\n",
       "        True,  True,  True,  True,  True,  True,  True,  True,  True,\n",
       "        True,  True,  True,  True,  True,  True,  True,  True,  True,\n",
       "        True,  True,  True,  True,  True,  True,  True,  True,  True,\n",
       "        True,  True,  True,  True,  True,  True,  True,  True,  True,\n",
       "        True,  True,  True,  True,  True,  True,  True,  True,  True,\n",
       "        True,  True,  True,  True,  True,  True,  True,  True,  True,\n",
       "        True,  True,  True,  True,  True,  True,  True,  True,  True,\n",
       "        True,  True,  True,  True,  True,  True,  True,  True,  True,\n",
       "        True,  True,  True,  True,  True,  True,  True,  True,  True,\n",
       "        True,  True,  True,  True,  True,  True,  True,  True,  True,\n",
       "        True,  True,  True,  True,  True,  True,  True,  True,  True,\n",
       "        True,  True,  True,  True,  True,  True,  True,  True,  True,\n",
       "        True,  True, False,  True,  True,  True,  True,  True,  True,\n",
       "        True,  True,  True,  True,  True,  True,  True,  True,  True,\n",
       "        True,  True,  True,  True,  True,  True,  True,  True,  True,\n",
       "        True,  True,  True,  True,  True,  True,  True,  True,  True,\n",
       "        True,  True,  True,  True,  True,  True,  True,  True,  True,\n",
       "        True,  True,  True,  True,  True,  True,  True,  True,  True,\n",
       "        True,  True,  True,  True,  True, False,  True,  True,  True,\n",
       "        True,  True,  True,  True,  True,  True,  True,  True,  True,\n",
       "        True,  True, False, False, False, False,  True,  True,  True,\n",
       "        True,  True,  True,  True,  True,  True,  True,  True,  True,\n",
       "        True,  True,  True,  True,  True,  True,  True,  True,  True,\n",
       "        True,  True,  True,  True,  True, False, False, False, False,\n",
       "        True,  True,  True,  True,  True,  True,  True,  True, False,\n",
       "        True, False,  True,  True,  True,  True,  True,  True,  True,\n",
       "        True,  True,  True,  True])"
      ]
     },
     "execution_count": 159,
     "metadata": {},
     "output_type": "execute_result"
    }
   ],
   "source": [
    "y"
   ]
  },
  {
   "cell_type": "code",
   "execution_count": 160,
   "metadata": {},
   "outputs": [
    {
     "data": {
      "text/plain": [
       "array([1, 1, 1, 1, 1, 1, 1, 1, 0, 0, 1, 1, 1, 1, 1, 1, 1, 1, 1, 1, 1, 1,\n",
       "       1, 1, 1, 1, 1, 0, 0, 1, 1, 1, 1, 1, 1, 1, 1, 1, 1, 0, 0, 0, 1, 1,\n",
       "       1, 1, 1, 1, 1, 1, 1, 1, 1, 1, 1, 1, 1, 0, 0, 0, 0, 0, 1, 1, 1, 1,\n",
       "       1, 1, 1, 1, 1, 1, 1, 1, 1, 1, 1, 1, 0, 0, 0, 1, 1, 1, 1, 1, 1, 1,\n",
       "       1, 1, 1, 0, 0, 0, 0, 0, 0, 1, 1, 1, 1, 1, 1, 1, 1, 1, 1, 1, 1, 1,\n",
       "       1, 1, 1, 1, 1, 1, 1, 0, 0, 1, 1, 1, 1, 1, 1, 1, 1, 1, 1, 1, 1, 1,\n",
       "       1, 1, 1, 1, 1, 1, 1, 1, 1, 1, 1, 1, 1, 1, 1, 1, 1, 1, 1, 1, 1, 1,\n",
       "       1, 1, 1, 1, 1, 1, 1, 1, 1, 1, 1, 1, 1, 1, 1, 1, 1, 1, 1, 1, 1, 1,\n",
       "       1, 1, 1, 1, 1, 1, 1, 1, 1, 1, 1, 1, 1, 1, 1, 1, 1, 1, 1, 1, 1, 1,\n",
       "       1, 1, 1, 1, 1, 1, 1, 1, 1, 1, 1, 1, 1, 1, 1, 1, 1, 1, 1, 1, 1, 1,\n",
       "       1, 1, 1, 1, 1, 1, 1, 1, 1, 1, 1, 1, 1, 1, 1, 1, 1, 1, 1, 1, 1, 1,\n",
       "       1, 1, 1, 1, 1, 1, 1, 1, 1, 1, 1, 1, 1, 1, 1, 1, 1, 1, 1, 1, 1, 1,\n",
       "       1, 1, 1, 1, 1, 1, 1, 1, 0, 1, 1, 1, 1, 1, 1, 1, 1, 1, 1, 1, 1, 1,\n",
       "       1, 1, 1, 1, 1, 1, 1, 1, 1, 1, 1, 1, 1, 1, 1, 1, 1, 1, 1, 1, 1, 1,\n",
       "       1, 1, 1, 1, 1, 1, 1, 1, 1, 1, 1, 1, 1, 1, 1, 1, 1, 1, 1, 1, 1, 0,\n",
       "       1, 1, 1, 1, 1, 1, 1, 1, 1, 1, 1, 1, 1, 1, 0, 0, 0, 0, 1, 1, 1, 1,\n",
       "       1, 1, 1, 1, 1, 1, 1, 1, 1, 1, 1, 1, 1, 1, 1, 1, 1, 1, 1, 1, 1, 1,\n",
       "       0, 0, 0, 0, 1, 1, 1, 1, 1, 1, 1, 1, 0, 1, 0, 1, 1, 1, 1, 1, 1, 1,\n",
       "       1, 1, 1, 1])"
      ]
     },
     "execution_count": 160,
     "metadata": {},
     "output_type": "execute_result"
    }
   ],
   "source": [
    "# use one hot encode to encode y variable to numeric values\n",
    "# Assigning numerical values and storing in another column\n",
    "y = labelencoder.fit_transform(y)\n",
    "y"
   ]
  },
  {
   "cell_type": "code",
   "execution_count": 161,
   "metadata": {},
   "outputs": [
    {
     "data": {
      "text/plain": [
       "array([0.74, 0.56, 0.78, 0.52, 0.8 , 0.75, 0.96, 0.62, 0.79, 0.68, 0.48,\n",
       "       0.74, 0.76, 0.7 , 0.86, 0.91, 0.9 , 0.78, 0.7 , 0.59, 0.34, 0.71,\n",
       "       0.91, 0.69, 0.47, 0.92, 0.94, 0.71, 0.74, 0.64, 0.93, 0.77, 0.61,\n",
       "       0.6 , 0.84, 0.64, 0.84, 0.77, 0.63, 0.65, 0.81, 0.84, 0.65, 0.59,\n",
       "       0.7 , 0.57, 0.7 , 0.81, 0.88, 0.56, 0.8 , 0.94, 0.79, 0.62, 0.93,\n",
       "       0.76, 0.78, 0.85, 0.7 , 0.71, 0.8 , 0.79, 0.9 , 0.56, 0.67, 0.94,\n",
       "       0.74, 0.86, 0.76, 0.47, 0.64, 0.81, 0.73, 0.71, 0.73, 0.89, 0.93,\n",
       "       0.86, 0.75, 0.84, 0.67, 0.84, 0.71, 0.73, 0.76, 0.79, 0.54, 0.71,\n",
       "       0.85, 0.54, 0.56, 0.8 , 0.64, 0.44, 0.72, 0.85, 0.7 , 0.95, 0.34,\n",
       "       0.75, 0.8 , 0.85, 0.74, 0.58, 0.66, 0.8 , 0.59, 0.88, 0.69, 0.84,\n",
       "       0.57, 0.97, 0.75, 0.91, 0.65, 0.92, 0.44, 0.69, 0.65, 0.76, 0.62,\n",
       "       0.58, 0.46, 0.63, 0.94, 0.46, 0.77, 0.89, 0.96, 0.62, 0.57, 0.96,\n",
       "       0.96, 0.49, 0.71, 0.57, 0.74, 0.53, 0.92, 0.88, 0.91, 0.47, 0.85,\n",
       "       0.93, 0.64, 0.38, 0.61, 0.79, 0.65, 0.86, 0.66, 0.77, 0.72, 0.68,\n",
       "       0.69, 0.57, 0.65, 0.78, 0.86, 0.8 , 0.8 , 0.69, 0.62, 0.63, 0.79,\n",
       "       0.8 , 0.89, 0.64, 0.64, 0.72, 0.66, 0.71, 0.47, 0.68, 0.79, 0.5 ,\n",
       "       0.77, 0.84, 0.9 , 0.72, 0.72, 0.64, 0.82, 0.36, 0.49, 0.72, 0.76,\n",
       "       0.68, 0.58, 0.54, 0.73, 0.61, 0.76, 0.54, 0.65, 0.96, 0.93, 0.95,\n",
       "       0.87, 0.92, 0.72, 0.81, 0.9 , 0.53, 0.72, 0.76, 0.36, 0.67, 0.42,\n",
       "       0.73, 0.65, 0.78, 0.74, 0.82, 0.66, 0.67, 0.64, 0.96, 0.97, 0.71,\n",
       "       0.77, 0.68, 0.67, 0.7 , 0.67, 0.97, 0.94, 0.94, 0.49, 0.74, 0.38,\n",
       "       0.92, 0.73, 0.71, 0.56, 0.46, 0.73, 0.78, 0.73, 0.53, 0.69, 0.51,\n",
       "       0.52, 0.63, 0.52, 0.72, 0.42, 0.84, 0.58, 0.46, 0.75, 0.68, 0.94,\n",
       "       0.63, 0.97, 0.74, 0.91, 0.78, 0.89, 0.95, 0.82, 0.91, 0.83, 0.93,\n",
       "       0.72, 0.82, 0.79, 0.81, 0.83, 0.73, 0.76, 0.66, 0.71, 0.93, 0.71,\n",
       "       0.94, 0.78, 0.94, 0.96, 0.87, 0.46, 0.48, 0.94, 0.66, 0.64, 0.94,\n",
       "       0.66, 0.56, 0.7 , 0.7 , 0.82, 0.45, 0.81, 0.78, 0.7 , 0.62, 0.86,\n",
       "       0.45, 0.89, 0.86])"
      ]
     },
     "execution_count": 161,
     "metadata": {},
     "output_type": "execute_result"
    }
   ],
   "source": [
    "y_train "
   ]
  },
  {
   "cell_type": "code",
   "execution_count": 169,
   "metadata": {},
   "outputs": [
    {
     "data": {
      "text/plain": [
       "array([1, 1, 1, 1, 1, 1, 1, 1, 1, 1, 1, 1, 1, 1, 1, 1, 1, 1, 1, 1, 0, 1,\n",
       "       1, 1, 1, 1, 1, 1, 1, 1, 1, 1, 1, 1, 1, 1, 1, 1, 1, 1, 1, 1, 1, 1,\n",
       "       1, 1, 1, 1, 1, 1, 1, 1, 1, 1, 1, 1, 1, 1, 1, 1, 1, 1, 1, 1, 1, 1,\n",
       "       1, 1, 1, 1, 1, 1, 1, 1, 1, 1, 1, 1, 1, 1, 1, 1, 1, 1, 1, 1, 1, 1,\n",
       "       1, 1, 1, 1, 1, 1, 1, 1, 1, 1, 0, 1, 1, 1, 1, 1, 1, 1, 1, 1, 1, 1,\n",
       "       1, 1, 1, 1, 1, 1, 1, 1, 1, 1, 1, 1, 1, 1, 1, 1, 1, 1, 1, 1, 1, 1,\n",
       "       1, 1, 1, 1, 1, 1, 1, 1, 1, 1, 1, 1, 1, 1, 1, 1, 1, 1, 1, 1, 1, 1,\n",
       "       1, 1, 1, 1, 1, 1, 1, 1, 1, 1, 1, 1, 1, 1, 1, 1, 1, 1, 1, 1, 1, 1,\n",
       "       1, 1, 1, 1, 1, 1, 1, 1, 1, 1, 1, 1, 1, 1, 1, 1, 1, 1, 1, 1, 1, 1,\n",
       "       1, 1, 1, 1, 1, 1, 1, 1, 1, 1, 1, 1, 1, 1, 1, 1, 1, 1, 1, 1, 1, 1,\n",
       "       1, 1, 1, 1, 1, 1, 1, 1, 1, 1, 1, 1, 1, 1, 1, 1, 1, 1, 1, 1, 1, 1,\n",
       "       1, 1, 1, 1, 1, 1, 1, 1, 1, 1, 1, 1, 1, 1, 1, 1, 1, 1, 1, 1, 1, 1,\n",
       "       1, 1, 1, 1, 1, 1, 1, 1, 1, 1, 1, 1, 1, 1, 1, 1, 1, 1, 1, 1, 1, 1,\n",
       "       1, 1, 1, 1, 1, 1, 1, 1, 1, 1, 1, 1, 1, 1])"
      ]
     },
     "execution_count": 169,
     "metadata": {},
     "output_type": "execute_result"
    }
   ],
   "source": [
    "y_train = y_train>0.5\n",
    "y_train = labelencoder.fit_transform(y_train)\n",
    "y_train"
   ]
  },
  {
   "cell_type": "code",
   "execution_count": 163,
   "metadata": {},
   "outputs": [
    {
     "data": {
      "text/plain": [
       "array([[320.  , 104.  ,   3.  , ...,   2.5 ,   8.57,   1.  ],\n",
       "       [315.  , 107.  ,   2.  , ...,   3.  ,   8.5 ,   1.  ],\n",
       "       [311.  , 107.  ,   4.  , ...,   4.5 ,   9.  ,   1.  ],\n",
       "       ...,\n",
       "       [290.  , 104.  ,   4.  , ...,   2.5 ,   7.46,   0.  ],\n",
       "       [339.  , 119.  ,   5.  , ...,   4.  ,   9.7 ,   0.  ],\n",
       "       [322.  , 110.  ,   4.  , ...,   5.  ,   9.13,   1.  ]])"
      ]
     },
     "execution_count": 163,
     "metadata": {},
     "output_type": "execute_result"
    }
   ],
   "source": [
    "X_train"
   ]
  },
  {
   "cell_type": "code",
   "execution_count": 166,
   "metadata": {},
   "outputs": [],
   "source": [
    "from sklearn.tree import DecisionTreeClassifier\n",
    "dt_clf = DecisionTreeClassifier(criterion = 'entropy', random_state=0)"
   ]
  },
  {
   "cell_type": "code",
   "execution_count": 170,
   "metadata": {},
   "outputs": [
    {
     "data": {
      "text/plain": [
       "DecisionTreeClassifier(class_weight=None, criterion='entropy', max_depth=None,\n",
       "                       max_features=None, max_leaf_nodes=None,\n",
       "                       min_impurity_decrease=0.0, min_impurity_split=None,\n",
       "                       min_samples_leaf=1, min_samples_split=2,\n",
       "                       min_weight_fraction_leaf=0.0, presort=False,\n",
       "                       random_state=0, splitter='best')"
      ]
     },
     "execution_count": 170,
     "metadata": {},
     "output_type": "execute_result"
    }
   ],
   "source": [
    "# make sure to use modified y and not y_train\n",
    "dt_clf.fit(X_train,y_train)"
   ]
  },
  {
   "cell_type": "code",
   "execution_count": 173,
   "metadata": {},
   "outputs": [
    {
     "data": {
      "text/plain": [
       "array([[309.  , 105.  ,   5.  ,   3.5 ,   3.5 ,   8.56,   0.  ],\n",
       "       [308.  , 110.  ,   4.  ,   3.5 ,   3.  ,   8.6 ,   0.  ],\n",
       "       [326.  , 110.  ,   3.  ,   3.5 ,   3.5 ,   8.76,   1.  ],\n",
       "       [306.  , 105.  ,   2.  ,   3.  ,   2.5 ,   8.26,   0.  ],\n",
       "       [316.  , 105.  ,   3.  ,   3.  ,   3.5 ,   8.73,   0.  ],\n",
       "       [309.  , 100.  ,   2.  ,   3.  ,   3.  ,   8.1 ,   0.  ],\n",
       "       [312.  , 109.  ,   3.  ,   3.  ,   3.  ,   8.69,   0.  ],\n",
       "       [312.  , 104.  ,   3.  ,   3.5 ,   4.  ,   8.09,   0.  ],\n",
       "       [332.  , 118.  ,   2.  ,   4.5 ,   3.5 ,   9.36,   1.  ],\n",
       "       [331.  , 117.  ,   4.  ,   4.5 ,   5.  ,   9.42,   1.  ],\n",
       "       [300.  , 105.  ,   1.  ,   1.  ,   2.  ,   7.8 ,   0.  ],\n",
       "       [333.  , 113.  ,   5.  ,   4.  ,   4.  ,   9.28,   1.  ],\n",
       "       [320.  , 110.  ,   2.  ,   4.  ,   3.5 ,   8.56,   0.  ],\n",
       "       [302.  ,  99.  ,   1.  ,   2.  ,   2.  ,   7.25,   0.  ],\n",
       "       [328.  , 112.  ,   4.  ,   4.  ,   4.5 ,   9.1 ,   1.  ],\n",
       "       [311.  , 104.  ,   2.  ,   2.  ,   2.  ,   8.3 ,   0.  ],\n",
       "       [312.  ,  98.  ,   1.  ,   3.5 ,   3.  ,   8.18,   1.  ],\n",
       "       [329.  , 110.  ,   2.  ,   4.  ,   3.  ,   9.15,   1.  ],\n",
       "       [315.  ,  99.  ,   2.  ,   3.5 ,   3.  ,   7.89,   0.  ],\n",
       "       [313.  , 107.  ,   3.  ,   4.  ,   4.5 ,   8.69,   0.  ],\n",
       "       [329.  , 119.  ,   4.  ,   4.5 ,   4.5 ,   9.16,   1.  ],\n",
       "       [327.  , 113.  ,   4.  ,   4.5 ,   5.  ,   9.14,   0.  ],\n",
       "       [301.  , 106.  ,   4.  ,   2.5 ,   3.  ,   8.47,   0.  ],\n",
       "       [295.  ,  96.  ,   2.  ,   1.5 ,   2.  ,   7.34,   0.  ],\n",
       "       [320.  , 111.  ,   4.  ,   4.5 ,   3.5 ,   8.87,   1.  ],\n",
       "       [301.  , 100.  ,   3.  ,   3.5 ,   3.  ,   8.04,   0.  ],\n",
       "       [296.  ,  95.  ,   2.  ,   3.  ,   2.  ,   7.54,   1.  ],\n",
       "       [314.  , 105.  ,   3.  ,   3.5 ,   2.5 ,   8.3 ,   0.  ],\n",
       "       [336.  , 118.  ,   5.  ,   4.5 ,   4.  ,   9.19,   1.  ],\n",
       "       [314.  , 106.  ,   2.  ,   4.  ,   3.5 ,   8.25,   0.  ],\n",
       "       [312.  , 101.  ,   2.  ,   2.5 ,   3.5 ,   8.04,   1.  ],\n",
       "       [323.  , 107.  ,   3.  ,   3.5 ,   3.5 ,   8.55,   1.  ],\n",
       "       [312.  , 107.  ,   4.  ,   4.5 ,   4.  ,   8.65,   1.  ],\n",
       "       [296.  ,  99.  ,   2.  ,   2.5 ,   2.5 ,   8.03,   0.  ],\n",
       "       [325.  , 112.  ,   4.  ,   3.5 ,   3.5 ,   8.92,   0.  ],\n",
       "       [327.  , 112.  ,   3.  ,   3.  ,   3.  ,   8.72,   1.  ],\n",
       "       [318.  , 106.  ,   2.  ,   4.  ,   4.  ,   7.92,   1.  ],\n",
       "       [323.  , 113.  ,   4.  ,   4.  ,   4.5 ,   9.23,   1.  ],\n",
       "       [307.  , 102.  ,   3.  ,   3.  ,   3.  ,   8.27,   0.  ],\n",
       "       [333.  , 117.  ,   4.  ,   5.  ,   4.  ,   9.66,   1.  ],\n",
       "       [322.  , 107.  ,   3.  ,   3.5 ,   3.5 ,   8.46,   1.  ],\n",
       "       [314.  , 107.  ,   2.  ,   2.5 ,   4.  ,   8.27,   0.  ],\n",
       "       [321.  , 109.  ,   3.  ,   3.  ,   4.  ,   8.2 ,   1.  ],\n",
       "       [324.  , 107.  ,   4.  ,   4.  ,   4.5 ,   8.87,   1.  ],\n",
       "       [320.  , 120.  ,   3.  ,   4.  ,   4.5 ,   9.11,   0.  ],\n",
       "       [322.  , 110.  ,   3.  ,   3.  ,   3.5 ,   8.  ,   0.  ],\n",
       "       [315.  , 105.  ,   2.  ,   2.  ,   2.5 ,   7.65,   0.  ],\n",
       "       [307.  , 110.  ,   4.  ,   4.  ,   4.5 ,   8.37,   0.  ],\n",
       "       [306.  , 106.  ,   2.  ,   2.  ,   2.5 ,   8.14,   0.  ],\n",
       "       [304.  , 100.  ,   2.  ,   2.5 ,   3.5 ,   8.07,   0.  ],\n",
       "       [311.  , 104.  ,   2.  ,   2.5 ,   3.5 ,   8.48,   0.  ],\n",
       "       [325.  , 112.  ,   2.  ,   3.  ,   3.5 ,   8.96,   1.  ],\n",
       "       [316.  , 101.  ,   2.  ,   2.5 ,   2.  ,   8.32,   1.  ],\n",
       "       [334.  , 117.  ,   5.  ,   4.  ,   4.5 ,   9.07,   1.  ],\n",
       "       [311.  , 102.  ,   3.  ,   4.5 ,   4.  ,   8.64,   1.  ],\n",
       "       [324.  , 111.  ,   3.  ,   2.5 ,   2.  ,   8.8 ,   1.  ],\n",
       "       [334.  , 116.  ,   4.  ,   4.  ,   3.  ,   8.  ,   1.  ],\n",
       "       [325.  , 106.  ,   3.  ,   3.5 ,   4.  ,   8.4 ,   1.  ],\n",
       "       [322.  , 109.  ,   5.  ,   4.5 ,   3.5 ,   8.8 ,   0.  ],\n",
       "       [322.  , 110.  ,   5.  ,   5.  ,   4.  ,   9.1 ,   1.  ],\n",
       "       [314.  , 106.  ,   3.  ,   3.  ,   5.  ,   8.9 ,   0.  ],\n",
       "       [294.  ,  95.  ,   1.  ,   1.5 ,   1.5 ,   7.64,   0.  ],\n",
       "       [314.  , 103.  ,   2.  ,   2.  ,   3.  ,   8.21,   0.  ],\n",
       "       [297.  ,  98.  ,   2.  ,   2.5 ,   3.  ,   7.67,   0.  ],\n",
       "       [323.  , 110.  ,   5.  ,   4.  ,   5.  ,   8.98,   1.  ],\n",
       "       [324.  , 110.  ,   3.  ,   3.5 ,   3.  ,   9.22,   1.  ],\n",
       "       [320.  , 113.  ,   2.  ,   2.  ,   2.5 ,   8.64,   1.  ],\n",
       "       [330.  , 115.  ,   5.  ,   4.5 ,   3.  ,   9.34,   1.  ],\n",
       "       [326.  , 108.  ,   3.  ,   3.  ,   3.5 ,   8.89,   0.  ],\n",
       "       [320.  , 104.  ,   3.  ,   3.  ,   3.5 ,   8.74,   1.  ],\n",
       "       [308.  , 101.  ,   2.  ,   3.  ,   4.  ,   7.9 ,   0.  ],\n",
       "       [327.  , 108.  ,   5.  ,   5.  ,   3.5 ,   9.13,   1.  ],\n",
       "       [318.  , 109.  ,   3.  ,   3.5 ,   4.  ,   9.22,   1.  ],\n",
       "       [312.  , 107.  ,   3.  ,   3.  ,   2.  ,   7.9 ,   1.  ],\n",
       "       [338.  , 117.  ,   4.  ,   3.5 ,   4.5 ,   9.46,   1.  ],\n",
       "       [311.  , 104.  ,   3.  ,   3.5 ,   2.  ,   8.2 ,   1.  ],\n",
       "       [306.  , 103.  ,   2.  ,   2.5 ,   3.  ,   8.36,   0.  ],\n",
       "       [313.  , 106.  ,   2.  ,   2.5 ,   2.  ,   8.43,   0.  ],\n",
       "       [334.  , 116.  ,   4.  ,   4.  ,   3.5 ,   9.54,   1.  ],\n",
       "       [297.  ,  96.  ,   2.  ,   2.5 ,   1.5 ,   7.89,   0.  ],\n",
       "       [319.  , 110.  ,   3.  ,   3.  ,   2.5 ,   8.79,   0.  ],\n",
       "       [325.  , 111.  ,   3.  ,   3.  ,   3.5 ,   8.7 ,   0.  ],\n",
       "       [320.  , 103.  ,   3.  ,   3.  ,   3.  ,   7.7 ,   0.  ],\n",
       "       [329.  , 111.  ,   4.  ,   4.5 ,   4.5 ,   9.18,   1.  ],\n",
       "       [309.  , 106.  ,   2.  ,   2.5 ,   2.5 ,   8.  ,   0.  ],\n",
       "       [324.  , 111.  ,   4.  ,   3.  ,   3.  ,   9.01,   1.  ],\n",
       "       [310.  , 106.  ,   4.  ,   1.5 ,   2.5 ,   8.36,   0.  ],\n",
       "       [321.  , 109.  ,   3.  ,   3.  ,   3.  ,   8.54,   1.  ],\n",
       "       [324.  , 110.  ,   3.  ,   3.5 ,   3.5 ,   9.04,   1.  ],\n",
       "       [326.  , 116.  ,   3.  ,   3.5 ,   4.  ,   9.14,   1.  ],\n",
       "       [322.  , 104.  ,   3.  ,   3.5 ,   4.  ,   8.84,   1.  ],\n",
       "       [335.  , 115.  ,   4.  ,   4.5 ,   4.5 ,   9.68,   1.  ],\n",
       "       [316.  , 102.  ,   3.  ,   2.  ,   3.  ,   7.4 ,   0.  ],\n",
       "       [302.  , 102.  ,   1.  ,   2.  ,   1.5 ,   8.  ,   0.  ],\n",
       "       [324.  , 111.  ,   5.  ,   4.5 ,   4.  ,   9.16,   1.  ],\n",
       "       [315.  , 105.  ,   3.  ,   2.  ,   2.5 ,   8.48,   0.  ],\n",
       "       [314.  , 109.  ,   4.  ,   3.5 ,   4.  ,   8.77,   1.  ],\n",
       "       [314.  , 102.  ,   2.  ,   2.  ,   2.5 ,   8.24,   0.  ],\n",
       "       [325.  , 110.  ,   2.  ,   3.  ,   2.5 ,   8.76,   1.  ],\n",
       "       [313.  , 102.  ,   3.  ,   3.5 ,   4.  ,   8.9 ,   1.  ]])"
      ]
     },
     "execution_count": 173,
     "metadata": {},
     "output_type": "execute_result"
    }
   ],
   "source": [
    "X_test"
   ]
  },
  {
   "cell_type": "code",
   "execution_count": 174,
   "metadata": {},
   "outputs": [
    {
     "data": {
      "text/plain": [
       "array([0.71, 0.7 , 0.79, 0.73, 0.72, 0.48, 0.77, 0.71, 0.9 , 0.94, 0.58,\n",
       "       0.89, 0.72, 0.57, 0.78, 0.42, 0.64, 0.84, 0.63, 0.72, 0.9 , 0.83,\n",
       "       0.57, 0.47, 0.85, 0.67, 0.44, 0.54, 0.92, 0.62, 0.68, 0.73, 0.73,\n",
       "       0.61, 0.55, 0.74, 0.64, 0.89, 0.73, 0.95, 0.71, 0.72, 0.75, 0.76,\n",
       "       0.86, 0.7 , 0.39, 0.79, 0.61, 0.64, 0.71, 0.8 , 0.61, 0.89, 0.68,\n",
       "       0.79, 0.78, 0.52, 0.76, 0.88, 0.74, 0.49, 0.65, 0.59, 0.87, 0.89,\n",
       "       0.81, 0.9 , 0.8 , 0.76, 0.68, 0.87, 0.68, 0.64, 0.91, 0.61, 0.69,\n",
       "       0.62, 0.93, 0.43, 0.72, 0.52, 0.64, 0.87, 0.62, 0.82, 0.57, 0.79,\n",
       "       0.82, 0.81, 0.78, 0.93, 0.64, 0.5 , 0.9 , 0.75, 0.82, 0.64, 0.75,\n",
       "       0.77])"
      ]
     },
     "execution_count": 174,
     "metadata": {},
     "output_type": "execute_result"
    }
   ],
   "source": [
    "y_test"
   ]
  },
  {
   "cell_type": "code",
   "execution_count": 175,
   "metadata": {},
   "outputs": [
    {
     "data": {
      "text/plain": [
       "array([1, 1, 1, 1, 1, 0, 1, 1, 1, 1, 1, 1, 1, 1, 1, 0, 1, 1, 1, 1, 1, 1,\n",
       "       1, 0, 1, 1, 0, 1, 1, 1, 1, 1, 1, 1, 1, 1, 1, 1, 1, 1, 1, 1, 1, 1,\n",
       "       1, 1, 0, 1, 1, 1, 1, 1, 1, 1, 1, 1, 1, 1, 1, 1, 1, 0, 1, 1, 1, 1,\n",
       "       1, 1, 1, 1, 1, 1, 1, 1, 1, 1, 1, 1, 1, 0, 1, 1, 1, 1, 1, 1, 1, 1,\n",
       "       1, 1, 1, 1, 1, 0, 1, 1, 1, 1, 1, 1])"
      ]
     },
     "execution_count": 175,
     "metadata": {},
     "output_type": "execute_result"
    }
   ],
   "source": [
    "# This step is necessary because both y_test and y_train need to be in the same form.\n",
    "y_test = y_test>0.5\n",
    "y_test = labelencoder.fit_transform(y_test)\n",
    "y_test"
   ]
  },
  {
   "cell_type": "code",
   "execution_count": 176,
   "metadata": {},
   "outputs": [
    {
     "data": {
      "text/plain": [
       "0.93"
      ]
     },
     "execution_count": 176,
     "metadata": {},
     "output_type": "execute_result"
    }
   ],
   "source": [
    "# predicting the score for decision tree classifier\n",
    "y_pred_dt = dt_clf.predict(X_test)\n",
    "dt_clf.score(X_test,y_test)"
   ]
  },
  {
   "cell_type": "code",
   "execution_count": 178,
   "metadata": {},
   "outputs": [],
   "source": [
    "# confusion matrix\n",
    "from sklearn.metrics import confusion_matrix\n",
    "cm = confusion_matrix(y_test,y_pred_dt)"
   ]
  },
  {
   "cell_type": "code",
   "execution_count": 179,
   "metadata": {},
   "outputs": [
    {
     "data": {
      "text/plain": [
       "array([[ 2,  6],\n",
       "       [ 1, 91]])"
      ]
     },
     "execution_count": 179,
     "metadata": {},
     "output_type": "execute_result"
    }
   ],
   "source": [
    "cm"
   ]
  },
  {
   "cell_type": "code",
   "execution_count": 181,
   "metadata": {},
   "outputs": [],
   "source": [
    "TN = cm[0][0]\n",
    "FP = cm[0][1]\n",
    "FN = cm[1][0]\n",
    "TP = cm[1][1]"
   ]
  },
  {
   "cell_type": "code",
   "execution_count": 182,
   "metadata": {},
   "outputs": [],
   "source": [
    "accuracy = (TP+TN)/100"
   ]
  },
  {
   "cell_type": "code",
   "execution_count": 183,
   "metadata": {},
   "outputs": [
    {
     "data": {
      "text/plain": [
       "0.93"
      ]
     },
     "execution_count": 183,
     "metadata": {},
     "output_type": "execute_result"
    }
   ],
   "source": [
    "# accuracy using confusion matrix\n",
    "accuracy"
   ]
  },
  {
   "cell_type": "code",
   "execution_count": null,
   "metadata": {},
   "outputs": [],
   "source": []
  }
 ],
 "metadata": {
  "kernelspec": {
   "display_name": "Python 3",
   "language": "python",
   "name": "python3"
  },
  "language_info": {
   "codemirror_mode": {
    "name": "ipython",
    "version": 3
   },
   "file_extension": ".py",
   "mimetype": "text/x-python",
   "name": "python",
   "nbconvert_exporter": "python",
   "pygments_lexer": "ipython3",
   "version": "3.6.8"
  }
 },
 "nbformat": 4,
 "nbformat_minor": 2
}
